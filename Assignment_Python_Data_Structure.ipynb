{
  "nbformat": 4,
  "nbformat_minor": 0,
  "metadata": {
    "colab": {
      "provenance": []
    },
    "kernelspec": {
      "name": "python3",
      "display_name": "Python 3"
    },
    "language_info": {
      "name": "python"
    }
  },
  "cells": [
    {
      "cell_type": "markdown",
      "source": [
        "**1. Discuss string slicing and provide examples.**\n",
        "\n",
        "Answer:String slicing allows you to extract a portion of a string by specifying a range of indices.\n",
        "\n",
        "Syntax: string[start:end:step]\n",
        "\n",
        "where:\n",
        "\n",
        "start: The starting index\n",
        "end: The ending index\n",
        "step: The step size, which determines the increment between each index.\n",
        "\n",
        "start index is inclusive whereas stop index is exclusive.\n",
        "default value for step is 1."
      ],
      "metadata": {
        "id": "HJsYTN1wqRYR"
      }
    },
    {
      "cell_type": "code",
      "source": [
        "#Example 1\n",
        "text = \"Anubhav Issachar\"\n",
        "slice1 = text[0:7]\n",
        "slice2 = text[8:]\n",
        "print(f\"First answer: {slice1}\\nsecond answer: {slice2}\")"
      ],
      "metadata": {
        "colab": {
          "base_uri": "https://localhost:8080/"
        },
        "id": "SgZKV0pBrRuY",
        "outputId": "61d47fee-8432-4cf6-8ce1-2bd51379b18c"
      },
      "execution_count": 3,
      "outputs": [
        {
          "output_type": "stream",
          "name": "stdout",
          "text": [
            "First answer: Anubhav\n",
            "second answer: Issachar\n"
          ]
        }
      ]
    },
    {
      "cell_type": "code",
      "source": [
        "#Example 2\n",
        "text = \"Anubhav Issachar\"\n",
        "f_name= text[:7]\n",
        "l_name= text[8:]\n",
        "print(f\"First name: {f_name}\\nLast name: {l_name}\")"
      ],
      "metadata": {
        "colab": {
          "base_uri": "https://localhost:8080/"
        },
        "id": "m9E-6LGDr-Ye",
        "outputId": "2119db6b-cc43-47d9-cf1d-b99afd8741f0"
      },
      "execution_count": 5,
      "outputs": [
        {
          "output_type": "stream",
          "name": "stdout",
          "text": [
            "First name: Anubhav\n",
            "Last name: Issachar\n"
          ]
        }
      ]
    },
    {
      "cell_type": "code",
      "source": [
        "#Example 3\n",
        "text = \"Bruce wayne is Batman!!\"\n",
        "hero_name =text[-8:-2]\n",
        "second_identity=text[0:-11]\n",
        "print(hero_name+\":\"+second_identity)"
      ],
      "metadata": {
        "colab": {
          "base_uri": "https://localhost:8080/"
        },
        "id": "z6p5Ie8zsyN7",
        "outputId": "d2089ecc-1408-4c0a-e40f-8f70c3dd2b54"
      },
      "execution_count": 12,
      "outputs": [
        {
          "output_type": "stream",
          "name": "stdout",
          "text": [
            "Batman:Bruce wayne \n"
          ]
        }
      ]
    },
    {
      "cell_type": "code",
      "source": [
        "#Example 4\n",
        "text=\"B_A_T_M_A_N\"\n",
        "hero=text[::2]\n",
        "reversed_text=text[::-2]\n",
        "print(f\"I am {hero}!!!!!\")\n",
        "print(f\"Batman hanging upside down saying : {reversed_text}\")"
      ],
      "metadata": {
        "colab": {
          "base_uri": "https://localhost:8080/"
        },
        "id": "myEgcJfst8MJ",
        "outputId": "f1c9fcec-3807-4dfc-f4dd-33383fc97f8b"
      },
      "execution_count": 15,
      "outputs": [
        {
          "output_type": "stream",
          "name": "stdout",
          "text": [
            "I am BATMAN!!!!!\n",
            "Batman hanging upside down saying : NAMTAB\n"
          ]
        }
      ]
    },
    {
      "cell_type": "markdown",
      "source": [
        "**2.  Explain the key features of lists in Python.**\n",
        "\n",
        "Answer: Key features of Python lists are as follows:-"
      ],
      "metadata": {
        "id": "fKljxXXmvXKQ"
      }
    },
    {
      "cell_type": "code",
      "source": [
        "#1. Ordered- Accessible by position.\n",
        "DC = ['superman', 'batman', 'green lantern']\n",
        "print(f\"Clark kent:{DC[0]}\\nBruce Wayne :{DC[1]}\\nHal Jordan:{DC[2]}\")"
      ],
      "metadata": {
        "colab": {
          "base_uri": "https://localhost:8080/"
        },
        "id": "XIGZdAwAvloR",
        "outputId": "6e7f6190-08f7-41e2-b772-a19e443c0fff"
      },
      "execution_count": 19,
      "outputs": [
        {
          "output_type": "stream",
          "name": "stdout",
          "text": [
            "Clark kent:superman\n",
            "Bruce Wayne :batman\n",
            "Hal Jordan:green lantern\n"
          ]
        }
      ]
    },
    {
      "cell_type": "code",
      "source": [
        "#2. Mutable- Can modify lists after they are created.\n",
        "DC = ['superman', 'batman', 'green lantern']\n",
        "DC[2]=\"Wonder Woman\"\n",
        "print(DC)"
      ],
      "metadata": {
        "colab": {
          "base_uri": "https://localhost:8080/"
        },
        "id": "YUp6vJFCwogX",
        "outputId": "7909af2d-31f4-4720-b28b-4ee3211aa521"
      },
      "execution_count": 20,
      "outputs": [
        {
          "output_type": "stream",
          "name": "stdout",
          "text": [
            "['superman', 'batman', 'Wonder Woman']\n"
          ]
        }
      ]
    },
    {
      "cell_type": "code",
      "source": [
        "#3. Lists can grow and shrink dynamically\n",
        "DC = ['superman', 'batman', 'green lantern']\n",
        "DC.append(\"Wonder Woman\")\n",
        "print(f\"append output: {DC}\")\n",
        "DC.pop()\n",
        "print(f\"pop output: {DC}\")\n",
        "DC.insert(2,\"Flash\")\n",
        "print(f\"insert output: {DC}\")\n",
        "DC.append(\"batman\")\n",
        "print(f\"Kindly note occurance of two \\\"batman\\\": {DC}\")\n",
        "DC.remove(\"batman\")\n",
        "print(f\"First occurance of batman will be removed: {DC}\")"
      ],
      "metadata": {
        "colab": {
          "base_uri": "https://localhost:8080/"
        },
        "id": "3IGb1iODxLFv",
        "outputId": "b1e912d8-1605-48a6-89aa-4767f34cecf1"
      },
      "execution_count": 29,
      "outputs": [
        {
          "output_type": "stream",
          "name": "stdout",
          "text": [
            "append output: ['superman', 'batman', 'green lantern', 'Wonder Woman']\n",
            "pop output: ['superman', 'batman', 'green lantern']\n",
            "insert output: ['superman', 'batman', 'Flash', 'green lantern']\n",
            "Kindly note occurance of two \"batman\": ['superman', 'batman', 'Flash', 'green lantern', 'batman']\n",
            "First occurance of batman will be removed: ['superman', 'Flash', 'green lantern', 'batman']\n"
          ]
        }
      ]
    },
    {
      "cell_type": "code",
      "source": [
        "#4. Heterogeneous Elements- Lists can contain different data types.\n",
        "mixed_list = [1, 'apple', 3.14, True]\n",
        "print(mixed_list)"
      ],
      "metadata": {
        "colab": {
          "base_uri": "https://localhost:8080/"
        },
        "id": "Grwdwt0CxtBV",
        "outputId": "bf943473-e687-4ff7-c1d0-b0fd4130afd6"
      },
      "execution_count": 23,
      "outputs": [
        {
          "output_type": "stream",
          "name": "stdout",
          "text": [
            "[1, 'apple', 3.14, True]\n"
          ]
        }
      ]
    },
    {
      "cell_type": "code",
      "source": [
        "#5. Nested Lists- Lists can contain other lists\n",
        "matrix = [[1, 2, 3], [4, 5, 6], [7, 8, 9]]\n",
        "print(matrix[1][2])"
      ],
      "metadata": {
        "colab": {
          "base_uri": "https://localhost:8080/"
        },
        "id": "PUlYWKatx7Fp",
        "outputId": "16e4e2b9-bf32-4b7b-98f2-a841edec7176"
      },
      "execution_count": 24,
      "outputs": [
        {
          "output_type": "stream",
          "name": "stdout",
          "text": [
            "6\n"
          ]
        }
      ]
    },
    {
      "cell_type": "code",
      "source": [
        "#6. Indexing and Slicing\n",
        "\n",
        "text = \"Anubhav Issachar\"\n",
        "f_name= text[:7]\n",
        "l_name= text[8:]\n",
        "print(f\"First name: {f_name}\\nLast name: {l_name}\")"
      ],
      "metadata": {
        "colab": {
          "base_uri": "https://localhost:8080/"
        },
        "id": "dusNb3tByQ5t",
        "outputId": "fe2bf8a9-9d80-4307-a0e3-3203b6b3101e"
      },
      "execution_count": 25,
      "outputs": [
        {
          "output_type": "stream",
          "name": "stdout",
          "text": [
            "First name: Anubhav\n",
            "Last name: Issachar\n"
          ]
        }
      ]
    },
    {
      "cell_type": "code",
      "source": [
        "#8. List Comprehensions- Create lists in a concise way\n",
        "squared_numbers = [x**2 for x in range(6)]\n",
        "print(squared_numbers)\n"
      ],
      "metadata": {
        "colab": {
          "base_uri": "https://localhost:8080/"
        },
        "id": "7_rDxLmN0jNx",
        "outputId": "b0c56483-7b4d-4754-c972-7ba78b4c3bac"
      },
      "execution_count": 31,
      "outputs": [
        {
          "output_type": "stream",
          "name": "stdout",
          "text": [
            "[0, 1, 4, 9, 16, 25]\n"
          ]
        }
      ]
    },
    {
      "cell_type": "markdown",
      "source": [
        "**3. Describe how to access, modify, and delete elements in a list with examples**\n",
        "\n",
        "Answer: Following are the working code that explains how lists can be accessed, modified and deleted:-"
      ],
      "metadata": {
        "id": "RWRQ2s0d07b3"
      }
    },
    {
      "cell_type": "code",
      "source": [
        "#1. Accessing Elements\n",
        "characters = ['Batman', 'Superman', 'Wonder Woman', 'The Joker']\n",
        "print(characters[0])\n",
        "print(characters[2])\n",
        "print(characters[-1])\n",
        "print(characters[-2])"
      ],
      "metadata": {
        "colab": {
          "base_uri": "https://localhost:8080/"
        },
        "id": "fJVlVQLk1lpl",
        "outputId": "7f048055-0c1d-4020-a8f9-f0bfd4b0585b"
      },
      "execution_count": 32,
      "outputs": [
        {
          "output_type": "stream",
          "name": "stdout",
          "text": [
            "Batman\n",
            "Wonder Woman\n",
            "The Joker\n",
            "Wonder Woman\n"
          ]
        }
      ]
    },
    {
      "cell_type": "code",
      "source": [
        "#2. Modifying Elements\n",
        "characters = ['Batman', 'Superman', 'Wonder Woman', 'The Joker']\n",
        "characters[0] = 'Dark Knight'\n",
        "print(characters)"
      ],
      "metadata": {
        "colab": {
          "base_uri": "https://localhost:8080/"
        },
        "id": "O5M2CYSp13Z_",
        "outputId": "ccc66c2b-a4ae-41ee-c858-8f297ce76e6b"
      },
      "execution_count": 33,
      "outputs": [
        {
          "output_type": "stream",
          "name": "stdout",
          "text": [
            "['Dark Knight', 'Superman', 'Wonder Woman', 'The Joker']\n"
          ]
        }
      ]
    },
    {
      "cell_type": "code",
      "source": [
        "#3. Deleting Elements\n",
        "\n",
        "characters = ['Batman', 'Superman', 'Wonder Woman', 'The Joker']\n",
        "\n",
        "del characters[3] #using del\n",
        "print(characters)\n",
        "\n",
        "characters.remove('Superman') #using remove\n",
        "print(characters)\n",
        "\n",
        "last_character = characters.pop() #using pop\n",
        "print(last_character)\n",
        "print(characters)\n",
        "\n",
        "characters.clear() #using clear\n",
        "print(characters)\n"
      ],
      "metadata": {
        "colab": {
          "base_uri": "https://localhost:8080/"
        },
        "id": "7vaR4uol2IrG",
        "outputId": "8ac1b317-27c3-49bc-a758-bdada3ab711d"
      },
      "execution_count": 34,
      "outputs": [
        {
          "output_type": "stream",
          "name": "stdout",
          "text": [
            "['Batman', 'Superman', 'Wonder Woman']\n",
            "['Batman', 'Wonder Woman']\n",
            "Wonder Woman\n",
            "['Batman']\n",
            "[]\n"
          ]
        }
      ]
    },
    {
      "cell_type": "markdown",
      "source": [
        "**4. Compare and contrast tuples and lists with examples.**\n",
        "\n",
        "Answer: tuples and lists are datastructures in python with some specific differences as follows:-\n",
        "\n",
        "1. Mutability-->\n",
        "\n",
        "--Lists are mutable, meaning you can change, add, or remove\n",
        "elements after the list has been created.\n",
        "\n",
        "--Tuples are immutable, meaning once a tuple is created, its elements cannot be changed or removed."
      ],
      "metadata": {
        "id": "T-1fzf1P29xS"
      }
    },
    {
      "cell_type": "code",
      "source": [
        "# List of superheroes (mutable)\n",
        "heroes = ['Batman', 'Superman', 'Wonder Woman']\n",
        "heroes[1] = 'Green Lantern'\n",
        "heroes.append('Flash')\n",
        "print(heroes)\n",
        "\n",
        "# Tuple of superhero powers (immutable)\n",
        "powers = ('super strength', 'flight', 'invisibility')\n",
        "# powers[1] = 'speed'\n",
        "print(powers)\n"
      ],
      "metadata": {
        "colab": {
          "base_uri": "https://localhost:8080/"
        },
        "id": "yu4OeVBB3XT9",
        "outputId": "cc29c087-3b14-47b6-af62-862e120ff62d"
      },
      "execution_count": 35,
      "outputs": [
        {
          "output_type": "stream",
          "name": "stdout",
          "text": [
            "['Batman', 'Green Lantern', 'Wonder Woman', 'Flash']\n",
            "('super strength', 'flight', 'invisibility')\n"
          ]
        }
      ]
    },
    {
      "cell_type": "markdown",
      "source": [
        "2. Syntax\n",
        "\n",
        "--Lists are defined using square brackets [].\n",
        "\n",
        "--Tuples are defined using parentheses ()."
      ],
      "metadata": {
        "id": "mdNr1iyg4HKR"
      }
    },
    {
      "cell_type": "code",
      "source": [
        "# List of heroes\n",
        "heroes = ['Batman', 'Superman', 'Wonder Woman']\n",
        "\n",
        "# Tuple of villains\n",
        "villains = ('The Joker', 'Lex Luthor', 'Cheetah')\n",
        "\n",
        "print(heroes,villains)\n"
      ],
      "metadata": {
        "colab": {
          "base_uri": "https://localhost:8080/"
        },
        "id": "xpYSNqZH4Ngq",
        "outputId": "ec85858e-d828-4d92-a32e-ed176b138bb1"
      },
      "execution_count": 37,
      "outputs": [
        {
          "output_type": "stream",
          "name": "stdout",
          "text": [
            "['Batman', 'Superman', 'Wonder Woman'] ('The Joker', 'Lex Luthor', 'Cheetah')\n"
          ]
        }
      ]
    },
    {
      "cell_type": "markdown",
      "source": [
        "3. Methods\n",
        "\n",
        "Lists have more built-in methods (like append(), remove(), pop(), etc.) because they can be changed.\n",
        "\n",
        "Tuples have fewer methods (like count() and index()) because they are immutable."
      ],
      "metadata": {
        "id": "rVRxRWiD6PQy"
      }
    },
    {
      "cell_type": "code",
      "source": [
        "# List methods\n",
        "team = ['Batman', 'Superman', 'Wonder Woman']\n",
        "team.remove('Superman')\n",
        "print(team)\n",
        "\n",
        "# Tuple methods\n",
        "villains = ('The Joker', 'Lex Luthor', 'The Joker')\n",
        "print(villains.count('The Joker'))\n",
        "print(villains.index('Lex Luthor'))\n"
      ],
      "metadata": {
        "colab": {
          "base_uri": "https://localhost:8080/"
        },
        "id": "4WTMOGVH6a3O",
        "outputId": "b28ad73d-add9-4654-a8ae-fe36c36801bc"
      },
      "execution_count": 38,
      "outputs": [
        {
          "output_type": "stream",
          "name": "stdout",
          "text": [
            "['Batman', 'Wonder Woman']\n",
            "2\n",
            "1\n"
          ]
        }
      ]
    },
    {
      "cell_type": "markdown",
      "source": [
        "4. Performance\n",
        "\n",
        "Tuples can be more memory-efficient and faster than lists, especially when storing a fixed set of superhero powers or stats, since they are immutable.\n",
        "\n",
        "Lists require more memory due to their ability to change."
      ],
      "metadata": {
        "id": "Fgt150oi6sAr"
      }
    },
    {
      "cell_type": "markdown",
      "source": [
        "**5. Describe the key features of sets and provide examples of their use.**\n",
        "\n",
        "Answer: Sets represent unordered collections of unique elements.\n",
        "\n",
        "Key features of sets, along with examples to illustrate their use:-"
      ],
      "metadata": {
        "id": "hk1wnqc4647j"
      }
    },
    {
      "cell_type": "code",
      "source": [
        "#1. Unordered-- Sets do not maintain any specific order. The elements can be retrieved in a different order than they were added.\n",
        "superheroes = {'Batman', 'Superman', 'Wonder Woman','Flash','Cyborg','Hawk Girl'}\n",
        "print(superheroes)\n"
      ],
      "metadata": {
        "colab": {
          "base_uri": "https://localhost:8080/"
        },
        "id": "XqCbMDDs7iOf",
        "outputId": "15b00037-18f5-42de-f505-293b4542bda1"
      },
      "execution_count": 41,
      "outputs": [
        {
          "output_type": "stream",
          "name": "stdout",
          "text": [
            "{'Flash', 'Cyborg', 'Batman', 'Superman', 'Wonder Woman', 'Hawk Girl'}\n"
          ]
        }
      ]
    },
    {
      "cell_type": "code",
      "source": [
        "#2. Unique Elements- Sets automatically remove duplicate elements.\n",
        "heroes = {'Batman', 'Superman', 'Wonder Woman', 'Batman'}  # 'Batman' is duplicated\n",
        "print(heroes)\n"
      ],
      "metadata": {
        "colab": {
          "base_uri": "https://localhost:8080/"
        },
        "id": "h-oYvs_C8FtU",
        "outputId": "ff949ac3-6f58-480f-8e4b-1b839ade1522"
      },
      "execution_count": 42,
      "outputs": [
        {
          "output_type": "stream",
          "name": "stdout",
          "text": [
            "{'Superman', 'Wonder Woman', 'Batman'}\n"
          ]
        }
      ]
    },
    {
      "cell_type": "code",
      "source": [
        "#3. Mutable- You can add or remove elements from a set.\n",
        "heroes = {'Batman', 'Superman', 'Wonder Woman'}\n",
        "heroes.add('Flash')  # Adding a superhero\n",
        "print(heroes)\n",
        "\n",
        "heroes.remove('Superman')  # Removing a superhero\n",
        "print(heroes)\n"
      ],
      "metadata": {
        "colab": {
          "base_uri": "https://localhost:8080/"
        },
        "id": "2ibJ6U-38WD4",
        "outputId": "55f8788e-30a7-4f29-fdd0-b10fe61bfcc5"
      },
      "execution_count": 43,
      "outputs": [
        {
          "output_type": "stream",
          "name": "stdout",
          "text": [
            "{'Superman', 'Flash', 'Wonder Woman', 'Batman'}\n",
            "{'Flash', 'Wonder Woman', 'Batman'}\n"
          ]
        }
      ]
    },
    {
      "cell_type": "code",
      "source": [
        "#4. Set Operations\n",
        "justice_league = {'Batman', 'Superman', 'Wonder Woman'}\n",
        "legion_of_doom = {'Lex Luthor', 'The Joker', 'Wonder Woman'}\n",
        "\n",
        "# Union\n",
        "all_characters = justice_league | legion_of_doom\n",
        "print(f\"Union:{all_characters}\")\n",
        "\n",
        "# Intersection\n",
        "common_characters = justice_league & legion_of_doom\n",
        "print(f\"Intersection: {common_characters}\")\n",
        "\n",
        "# Difference\n",
        "heroes_not_in_doom = justice_league - legion_of_doom\n",
        "print(f\"Difference:{heroes_not_in_doom}\")\n",
        "\n",
        "# Symmetric Difference\n",
        "exclusive_characters = justice_league ^ legion_of_doom\n",
        "print(f\"Symmetric Difference:{exclusive_characters}\")"
      ],
      "metadata": {
        "colab": {
          "base_uri": "https://localhost:8080/"
        },
        "id": "7S5d5HCq8mH3",
        "outputId": "ecc6055d-a1d0-49ba-de06-bf0cb08af584"
      },
      "execution_count": 44,
      "outputs": [
        {
          "output_type": "stream",
          "name": "stdout",
          "text": [
            "Union:{'Lex Luthor', 'Batman', 'Superman', 'The Joker', 'Wonder Woman'}\n",
            "Intersection: {'Wonder Woman'}\n",
            "Difference:{'Superman', 'Batman'}\n",
            "Symmetric Difference:{'Batman', 'Superman', 'Lex Luthor', 'The Joker'}\n"
          ]
        }
      ]
    },
    {
      "cell_type": "code",
      "source": [
        "#5. No Indexing\n",
        "\n",
        "heroes = {'Batman', 'Superman', 'Wonder Woman'}\n",
        "heroes[0]\n"
      ],
      "metadata": {
        "colab": {
          "base_uri": "https://localhost:8080/",
          "height": 182
        },
        "id": "oe_AHaZI9Y0H",
        "outputId": "d3481cc6-30a6-4522-bf5e-52aeb8c048bd"
      },
      "execution_count": 45,
      "outputs": [
        {
          "output_type": "error",
          "ename": "TypeError",
          "evalue": "'set' object is not subscriptable",
          "traceback": [
            "\u001b[0;31m---------------------------------------------------------------------------\u001b[0m",
            "\u001b[0;31mTypeError\u001b[0m                                 Traceback (most recent call last)",
            "\u001b[0;32m<ipython-input-45-ed9d86ac93db>\u001b[0m in \u001b[0;36m<cell line: 4>\u001b[0;34m()\u001b[0m\n\u001b[1;32m      2\u001b[0m \u001b[0;34m\u001b[0m\u001b[0m\n\u001b[1;32m      3\u001b[0m \u001b[0mheroes\u001b[0m \u001b[0;34m=\u001b[0m \u001b[0;34m{\u001b[0m\u001b[0;34m'Batman'\u001b[0m\u001b[0;34m,\u001b[0m \u001b[0;34m'Superman'\u001b[0m\u001b[0;34m,\u001b[0m \u001b[0;34m'Wonder Woman'\u001b[0m\u001b[0;34m}\u001b[0m\u001b[0;34m\u001b[0m\u001b[0;34m\u001b[0m\u001b[0m\n\u001b[0;32m----> 4\u001b[0;31m \u001b[0mheroes\u001b[0m\u001b[0;34m[\u001b[0m\u001b[0;36m0\u001b[0m\u001b[0;34m]\u001b[0m\u001b[0;34m\u001b[0m\u001b[0;34m\u001b[0m\u001b[0m\n\u001b[0m",
            "\u001b[0;31mTypeError\u001b[0m: 'set' object is not subscriptable"
          ]
        }
      ]
    },
    {
      "cell_type": "code",
      "source": [
        "#6. set comprehensions\n",
        "hero_powers = {hero for hero in ['Super Strength', 'Flight', 'Invisibility', 'Super Speed']}\n",
        "print(hero_powers)"
      ],
      "metadata": {
        "colab": {
          "base_uri": "https://localhost:8080/"
        },
        "id": "EFrTcHJT9toe",
        "outputId": "027636d6-9607-4b98-a270-e02c82721a56"
      },
      "execution_count": 46,
      "outputs": [
        {
          "output_type": "stream",
          "name": "stdout",
          "text": [
            "{'Super Strength', 'Flight', 'Super Speed', 'Invisibility'}\n"
          ]
        }
      ]
    },
    {
      "cell_type": "markdown",
      "source": [
        "**6. Discuss the use cases of tuples and sets in Python programming.**\n",
        "\n",
        "Answer:\n",
        "\n",
        "*Use Cases of Tuples:---*\n",
        "\n",
        "1. Immutable Data Storage\n",
        "\n",
        "Tuples are immutable, making them ideal for storing data that should not change. This is useful for constants or fixed configurations\n",
        "\n",
        "Example: Storing the coordinates of a point in a 2D space."
      ],
      "metadata": {
        "id": "kLMU3FiR99PW"
      }
    },
    {
      "cell_type": "code",
      "source": [
        "point = (10, 20)\n",
        "print(f\"Coordinates are : {point}\")\n"
      ],
      "metadata": {
        "colab": {
          "base_uri": "https://localhost:8080/"
        },
        "id": "THer7eo8-r1U",
        "outputId": "bb76cc0a-e675-449c-8817-b97535d6efb0"
      },
      "execution_count": 47,
      "outputs": [
        {
          "output_type": "stream",
          "name": "stdout",
          "text": [
            "Coordinates are : (10, 20)\n"
          ]
        }
      ]
    },
    {
      "cell_type": "markdown",
      "source": [
        "2. Returning Multiple Values-- Functions can return multiple values as a tuple, making it easy to group related values together."
      ],
      "metadata": {
        "id": "uZtW98kQ-2eP"
      }
    },
    {
      "cell_type": "code",
      "source": [
        "def get_min_max(numbers):\n",
        "    return (min(numbers), max(numbers))\n",
        "\n",
        "result = get_min_max([3, 5, 1, 8])\n",
        "print(result)\n"
      ],
      "metadata": {
        "colab": {
          "base_uri": "https://localhost:8080/"
        },
        "id": "xQXQErDh_DrA",
        "outputId": "db632613-70fa-4e67-f792-ffcda48beb24"
      },
      "execution_count": 48,
      "outputs": [
        {
          "output_type": "stream",
          "name": "stdout",
          "text": [
            "(1, 8)\n"
          ]
        }
      ]
    },
    {
      "cell_type": "markdown",
      "source": [
        "3. Fixed Collections- Tuples can be used to represent fixed collections of items, such as RGB color values or the days of the week\n",
        "\n"
      ],
      "metadata": {
        "id": "FT7UR1mr_NBL"
      }
    },
    {
      "cell_type": "code",
      "source": [
        "rgb_color = (255, 0, 0)\n",
        "days_of_week = ('Monday', 'Tuesday', 'Wednesday', 'Thursday', 'Friday', 'Saturday', 'Sunday')\n",
        "\n",
        "print(rgb_color)\n",
        "print(days_of_week)\n"
      ],
      "metadata": {
        "colab": {
          "base_uri": "https://localhost:8080/"
        },
        "id": "HP9_Fbrz_Wpb",
        "outputId": "74396d7e-4a23-4e2d-84ea-95ec37306030"
      },
      "execution_count": 49,
      "outputs": [
        {
          "output_type": "stream",
          "name": "stdout",
          "text": [
            "(255, 0, 0)\n",
            "('Monday', 'Tuesday', 'Wednesday', 'Thursday', 'Friday', 'Saturday', 'Sunday')\n"
          ]
        }
      ]
    },
    {
      "cell_type": "markdown",
      "source": [
        "4. Hashable Collections-Since tuples are immutable, they can be used as keys in dictionaries or elements in sets, unlike lists."
      ],
      "metadata": {
        "id": "DdnLjfHo_gVO"
      }
    },
    {
      "cell_type": "code",
      "source": [
        "location_dict = {(10, 20): 'Park', (30, 40): 'School'}\n",
        "print(location_dict[(10, 20)])\n"
      ],
      "metadata": {
        "colab": {
          "base_uri": "https://localhost:8080/"
        },
        "id": "ciE_m_lZ_pS_",
        "outputId": "ca028be1-389b-4cc7-99f6-34b56d6c8a91"
      },
      "execution_count": 51,
      "outputs": [
        {
          "output_type": "stream",
          "name": "stdout",
          "text": [
            "Park\n"
          ]
        }
      ]
    },
    {
      "cell_type": "markdown",
      "source": [
        "5. Data Integrity-- Use tuples to ensure that a collection of related data remains unchanged, enhancing data integrity"
      ],
      "metadata": {
        "id": "js-RfNS4_ztu"
      }
    },
    {
      "cell_type": "code",
      "source": [
        "employee = ('John Doe', 'Software Engineer', 75000)\n",
        "print(employee)"
      ],
      "metadata": {
        "colab": {
          "base_uri": "https://localhost:8080/"
        },
        "id": "kA4Gavy5_55q",
        "outputId": "d99739c5-c3f7-4248-990c-30cfb505bf15"
      },
      "execution_count": 52,
      "outputs": [
        {
          "output_type": "stream",
          "name": "stdout",
          "text": [
            "('John Doe', 'Software Engineer', 75000)\n"
          ]
        }
      ]
    },
    {
      "cell_type": "markdown",
      "source": [
        "*Use Cases of Sets*--\n",
        "\n",
        "1. Unique Element Storage- Sets automatically ensure that all elements are unique, making them ideal for eliminating duplicates from collections."
      ],
      "metadata": {
        "id": "BBhZyKAPAHjZ"
      }
    },
    {
      "cell_type": "code",
      "source": [
        "numbers = [1, 2, 2, 3, 4, 4, 5]\n",
        "unique_numbers = set(numbers)\n",
        "print(unique_numbers)\n"
      ],
      "metadata": {
        "colab": {
          "base_uri": "https://localhost:8080/"
        },
        "id": "WmAuwoeVAU8Z",
        "outputId": "1cf0b077-979d-480e-ca66-58c00d4df658"
      },
      "execution_count": 53,
      "outputs": [
        {
          "output_type": "stream",
          "name": "stdout",
          "text": [
            "{1, 2, 3, 4, 5}\n"
          ]
        }
      ]
    },
    {
      "cell_type": "markdown",
      "source": [
        "2. Membership Testing"
      ],
      "metadata": {
        "id": "wdAN_GvJAf08"
      }
    },
    {
      "cell_type": "code",
      "source": [
        "fruits = {'apple', 'banana', 'cherry'}\n",
        "print('banana' in fruits)"
      ],
      "metadata": {
        "colab": {
          "base_uri": "https://localhost:8080/"
        },
        "id": "W8a9ZTk1Als5",
        "outputId": "bd6fc492-89d1-4ee9-8fa3-18277881a547"
      },
      "execution_count": 54,
      "outputs": [
        {
          "output_type": "stream",
          "name": "stdout",
          "text": [
            "True\n"
          ]
        }
      ]
    },
    {
      "cell_type": "markdown",
      "source": [
        "3. Mathematical Operations-- Sets support mathematical operations like union, intersection, and difference, which can be useful for various applications such as grouping and comparisons."
      ],
      "metadata": {
        "id": "IqYoRNNFArXZ"
      }
    },
    {
      "cell_type": "code",
      "source": [
        "justice_league = {'Batman', 'Superman', 'Wonder Woman'}\n",
        "legion_of_doom = {'Lex Luthor', 'The Joker', 'Wonder Woman'}\n",
        "\n",
        "# Union\n",
        "all_characters = justice_league | legion_of_doom\n",
        "print(f\"Union:{all_characters}\")\n",
        "\n",
        "# Intersection\n",
        "common_characters = justice_league & legion_of_doom\n",
        "print(f\"Intersection: {common_characters}\")\n",
        "\n",
        "# Difference\n",
        "heroes_not_in_doom = justice_league - legion_of_doom\n",
        "print(f\"Difference:{heroes_not_in_doom}\")\n",
        "\n",
        "# Symmetric Difference\n",
        "exclusive_characters = justice_league ^ legion_of_doom\n",
        "print(f\"Symmetric Difference:{exclusive_characters}\")"
      ],
      "metadata": {
        "colab": {
          "base_uri": "https://localhost:8080/"
        },
        "id": "JEhgX1joA2Yp",
        "outputId": "d432fb2e-ae60-4064-fec9-c76bf8a857b5"
      },
      "execution_count": 55,
      "outputs": [
        {
          "output_type": "stream",
          "name": "stdout",
          "text": [
            "Union:{'Lex Luthor', 'Batman', 'Superman', 'The Joker', 'Wonder Woman'}\n",
            "Intersection: {'Wonder Woman'}\n",
            "Difference:{'Superman', 'Batman'}\n",
            "Symmetric Difference:{'Batman', 'Superman', 'Lex Luthor', 'The Joker'}\n"
          ]
        }
      ]
    },
    {
      "cell_type": "markdown",
      "source": [
        "4. Finding Common Elements- Use sets to identify common elements between two or more collections, such as shared skills among team members."
      ],
      "metadata": {
        "id": "xegdLg_vBBmk"
      }
    },
    {
      "cell_type": "code",
      "source": [
        "team_a_skills = {'Python', 'Java', 'C++'}\n",
        "team_b_skills = {'Java', 'JavaScript', 'C#'}\n",
        "common_skills = team_a_skills & team_b_skills\n",
        "print(common_skills)\n"
      ],
      "metadata": {
        "colab": {
          "base_uri": "https://localhost:8080/"
        },
        "id": "Iji7SMeXBHOA",
        "outputId": "83214fe7-5fff-4a9c-b2dd-205540065192"
      },
      "execution_count": 56,
      "outputs": [
        {
          "output_type": "stream",
          "name": "stdout",
          "text": [
            "{'Java'}\n"
          ]
        }
      ]
    },
    {
      "cell_type": "markdown",
      "source": [
        "5. Data Analysis- Sets can be useful in data analysis scenarios where the uniqueness of data points is essential, such as in customer segmentation or survey results."
      ],
      "metadata": {
        "id": "DY0u_wUDBMeO"
      }
    },
    {
      "cell_type": "code",
      "source": [
        "survey_responses = ['Yes', 'No', 'Yes', 'Maybe', 'No']\n",
        "unique_responses = set(survey_responses)\n",
        "print(unique_responses)\n"
      ],
      "metadata": {
        "colab": {
          "base_uri": "https://localhost:8080/"
        },
        "id": "xKIM3s2yBTD8",
        "outputId": "431b9fed-4b59-4b65-d142-9462e2e90c92"
      },
      "execution_count": 57,
      "outputs": [
        {
          "output_type": "stream",
          "name": "stdout",
          "text": [
            "{'Maybe', 'Yes', 'No'}\n"
          ]
        }
      ]
    },
    {
      "cell_type": "markdown",
      "source": [
        "**7. Describe how to add, modify, and delete items in a dictionary with examples**\n",
        "\n",
        "Answer: Dictionaries in Python are mutable, unordered collections that store data in key-value pairs."
      ],
      "metadata": {
        "id": "DIBVguPhBoZQ"
      }
    },
    {
      "cell_type": "code",
      "source": [
        "#1. Adding Items- You can add new key-value pairs to a dictionary simply by assigning a value to a new key\n",
        "\n",
        "\n",
        "marvel_characters = {\n",
        "    'Iron Man': 'Tony Stark',\n",
        "    'Captain America': 'Steve Rogers',\n",
        "    'Thor': 'Thor Odinson'\n",
        "}\n",
        "\n",
        "# Adding a new character\n",
        "marvel_characters['Hulk'] = 'Bruce Banner'\n",
        "print(marvel_characters)\n",
        "\n"
      ],
      "metadata": {
        "colab": {
          "base_uri": "https://localhost:8080/"
        },
        "id": "UrUXbrfYB0xZ",
        "outputId": "1dae8e05-ab1b-4df9-86bd-09e7b9c00af7"
      },
      "execution_count": 58,
      "outputs": [
        {
          "output_type": "stream",
          "name": "stdout",
          "text": [
            "{'Iron Man': 'Tony Stark', 'Captain America': 'Steve Rogers', 'Thor': 'Thor Odinson', 'Hulk': 'Bruce Banner'}\n"
          ]
        }
      ]
    },
    {
      "cell_type": "code",
      "source": [
        "#2. Modifying Items- You can modify the value associated with an existing key by simply reassigning it.\n",
        "\n",
        "marvel_characters = {'Iron Man': 'Tony Stark',\n",
        "                     'Captain America': 'Steve Rogers',\n",
        "                     'Thor': 'Thor Odinson',\n",
        "                     'Hulk': 'Bruce Banner'\n",
        "}\n",
        "\n",
        "marvel_characters['Hulk'] = 'The Incredible Hulk'\n",
        "print(marvel_characters)"
      ],
      "metadata": {
        "colab": {
          "base_uri": "https://localhost:8080/"
        },
        "id": "n0R46TJ_CF6V",
        "outputId": "7d6b08ef-c0d6-4661-a997-fd7c891f370c"
      },
      "execution_count": 60,
      "outputs": [
        {
          "output_type": "stream",
          "name": "stdout",
          "text": [
            "{'Iron Man': 'Tony Stark', 'Captain America': 'Steve Rogers', 'Thor': 'Thor Odinson', 'Hulk': 'The Incredible Hulk'}\n"
          ]
        }
      ]
    },
    {
      "cell_type": "code",
      "source": [
        "#3. Deleting Items\n",
        "\n",
        "marvel_characters = {'Iron Man': 'Tony Stark',\n",
        "                     'Captain America': 'Steve Rogers',\n",
        "                     'Thor': 'Thor Odinson',\n",
        "                     'Hulk': 'Bruce Banner'\n",
        "}\n",
        "\n",
        "# Deleting a character using del\n",
        "del marvel_characters['Captain America']\n",
        "print(marvel_characters)\n",
        "\n",
        "\n",
        "# Deleting a character using pop()\n",
        "thor_identity = marvel_characters.pop('Thor')\n",
        "print(thor_identity)\n",
        "print(marvel_characters)\n",
        "\n",
        "# Deleting the entire dictionary\n",
        "marvel_characters.clear()\n",
        "print(marvel_characters)\n",
        "\n"
      ],
      "metadata": {
        "colab": {
          "base_uri": "https://localhost:8080/"
        },
        "id": "7lpT8OOeCjxk",
        "outputId": "168f12c9-2a4d-48c0-b92f-ead14c6b2d8d"
      },
      "execution_count": 61,
      "outputs": [
        {
          "output_type": "stream",
          "name": "stdout",
          "text": [
            "{'Iron Man': 'Tony Stark', 'Thor': 'Thor Odinson', 'Hulk': 'Bruce Banner'}\n",
            "Thor Odinson\n",
            "{'Iron Man': 'Tony Stark', 'Hulk': 'Bruce Banner'}\n",
            "{}\n"
          ]
        }
      ]
    },
    {
      "cell_type": "markdown",
      "source": [
        "**8. Discuss the importance of dictionary keys being immutable and provide examples**\n",
        "\n",
        "Answer: Dictionary keys are immutable types like strings or tuples because of several reasons . Some of the reasons are as follows:-\n",
        "\n",
        "1. Ensures Consistency- When a dictionary key is used, it must remain constant to ensure that the data can be retrieved accurately."
      ],
      "metadata": {
        "id": "bESB2BjADAwm"
      }
    },
    {
      "cell_type": "code",
      "source": [
        "superheroes = {\n",
        "    'Iron Man': 'Tony Stark',\n",
        "    'Thor': 'Thor Odinson'\n",
        "}"
      ],
      "metadata": {
        "id": "g4n3pEyLD0mf"
      },
      "execution_count": null,
      "outputs": []
    },
    {
      "cell_type": "markdown",
      "source": [
        "2. Performance and Hashing- Immutable keys ensure that the hash value remains constant, allowing for efficient lookups."
      ],
      "metadata": {
        "id": "pPN5DWRRD_HR"
      }
    },
    {
      "cell_type": "code",
      "source": [
        "# Using strings (immutable) as keys\n",
        "superhero_powers = {\n",
        "    'Spider-Man': 'Web-slinging',\n",
        "    'Hulk': 'Super strength'\n",
        "}\n",
        "\n",
        "# Fast lookups based on immutable keys\n",
        "print(superhero_powers['Spider-Man'])\n"
      ],
      "metadata": {
        "colab": {
          "base_uri": "https://localhost:8080/"
        },
        "id": "9KHx55HqEHXr",
        "outputId": "ccc1f778-fa4f-4115-dfa1-d096646f0404"
      },
      "execution_count": 62,
      "outputs": [
        {
          "output_type": "stream",
          "name": "stdout",
          "text": [
            "Web-slinging\n"
          ]
        }
      ]
    },
    {
      "cell_type": "markdown",
      "source": [
        "3. Avoiding Unintended Errors- If mutable types were allowed as keys, it could lead to unintentional errors. For instance, if you modified a mutable key after adding it to a dictionary, you could lose access to the original value."
      ],
      "metadata": {
        "id": "WMKc6dYKEGkY"
      }
    },
    {
      "cell_type": "code",
      "source": [
        "# Using tuples (immutable) as keys\n",
        "coordinates = {\n",
        "    (0, 0): 'Origin',\n",
        "    (1, 1): 'Point A'\n",
        "}\n",
        "\n",
        "# Using a list as a key (not allowed)\n",
        "coordinates[[0, 0]] = 'Origin Point'  #TypeError\n",
        "\n",
        "# Correct usage with tuples\n",
        "print(coordinates[(0, 0)])  # Output: 'Origin'\n"
      ],
      "metadata": {
        "colab": {
          "base_uri": "https://localhost:8080/",
          "height": 219
        },
        "id": "_Qtk1Ul1ESh5",
        "outputId": "894c18cf-e86c-4f6a-b9d1-823eae4f3349"
      },
      "execution_count": 63,
      "outputs": [
        {
          "output_type": "error",
          "ename": "TypeError",
          "evalue": "unhashable type: 'list'",
          "traceback": [
            "\u001b[0;31m---------------------------------------------------------------------------\u001b[0m",
            "\u001b[0;31mTypeError\u001b[0m                                 Traceback (most recent call last)",
            "\u001b[0;32m<ipython-input-63-0f52208bc968>\u001b[0m in \u001b[0;36m<cell line: 8>\u001b[0;34m()\u001b[0m\n\u001b[1;32m      6\u001b[0m \u001b[0;34m\u001b[0m\u001b[0m\n\u001b[1;32m      7\u001b[0m \u001b[0;31m# Using a list as a key (not allowed)\u001b[0m\u001b[0;34m\u001b[0m\u001b[0;34m\u001b[0m\u001b[0m\n\u001b[0;32m----> 8\u001b[0;31m \u001b[0mcoordinates\u001b[0m\u001b[0;34m[\u001b[0m\u001b[0;34m[\u001b[0m\u001b[0;36m0\u001b[0m\u001b[0;34m,\u001b[0m \u001b[0;36m0\u001b[0m\u001b[0;34m]\u001b[0m\u001b[0;34m]\u001b[0m \u001b[0;34m=\u001b[0m \u001b[0;34m'Origin Point'\u001b[0m  \u001b[0;31m# This would raise a TypeError\u001b[0m\u001b[0;34m\u001b[0m\u001b[0;34m\u001b[0m\u001b[0m\n\u001b[0m\u001b[1;32m      9\u001b[0m \u001b[0;34m\u001b[0m\u001b[0m\n\u001b[1;32m     10\u001b[0m \u001b[0;31m# Correct usage with tuples\u001b[0m\u001b[0;34m\u001b[0m\u001b[0;34m\u001b[0m\u001b[0m\n",
            "\u001b[0;31mTypeError\u001b[0m: unhashable type: 'list'"
          ]
        }
      ]
    }
  ]
}