{
  "nbformat": 4,
  "nbformat_minor": 0,
  "metadata": {
    "colab": {
      "provenance": []
    },
    "kernelspec": {
      "name": "python3",
      "display_name": "Python 3"
    },
    "language_info": {
      "name": "python"
    }
  },
  "cells": [
    {
      "cell_type": "markdown",
      "source": [
        "**Q1. Write a code to reverse a string.**"
      ],
      "metadata": {
        "id": "o2NsrO_K7Ero"
      }
    },
    {
      "cell_type": "code",
      "source": [
        "#Method 1\n",
        "str1=input(\"Enter a string you want to reverse:\\n\")\n",
        "rev_str1=str1[::-1]\n",
        "print(f\"The reverse of {str1} is {rev_str1}\")\n",
        "\n",
        "#Method2\n",
        "str2=input(\"Enter a string you want to reverse:\\n\")\n",
        "rev_str2=\"\"\n",
        "for char in str2:\n",
        "  rev_str2=char+rev_str2\n",
        "print(f\"The reverse of {str2} is {rev_str2}\")"
      ],
      "metadata": {
        "colab": {
          "base_uri": "https://localhost:8080/"
        },
        "id": "-A6FefC67Kq0",
        "outputId": "3a573cbd-a9f0-41da-9aeb-2c922b5d1850"
      },
      "execution_count": 2,
      "outputs": [
        {
          "output_type": "stream",
          "name": "stdout",
          "text": [
            "Enter a string you want to reverse:\n",
            "Anubhav\n",
            "The reverse of Anubhav is vahbunA\n",
            "Enter a string you want to reverse:\n",
            "Anubhav\n",
            "The reverse of Anubhav is vahbunA\n"
          ]
        }
      ]
    },
    {
      "cell_type": "markdown",
      "source": [
        "**Q2. Write a code to count the number of vowels in a string.**"
      ],
      "metadata": {
        "id": "Z11Ln8la8_Gc"
      }
    },
    {
      "cell_type": "code",
      "source": [
        "a=input(\"Enter your text\\n\")\n",
        "count=0\n",
        "for char in a:\n",
        "  if char==\"a\" or char==\"e\" or char==\"i\" or char==\"o\" or char==\"u\":\n",
        "    count+=1\n",
        "print(f\"The number of vowels in {a} is {count}\")"
      ],
      "metadata": {
        "colab": {
          "base_uri": "https://localhost:8080/"
        },
        "id": "es2teTzX9GEt",
        "outputId": "668fd0ee-5b37-4519-bbfa-4133a6efe4c2"
      },
      "execution_count": 4,
      "outputs": [
        {
          "output_type": "stream",
          "name": "stdout",
          "text": [
            "Enter your text\n",
            "zebra\n",
            "The number of vowels in zebra is 2\n"
          ]
        }
      ]
    },
    {
      "cell_type": "markdown",
      "source": [
        "**Q3.  Write a code to check if a given string is a palindrome or not**"
      ],
      "metadata": {
        "id": "GjblBkKA9FYy"
      }
    },
    {
      "cell_type": "code",
      "source": [
        "txt=input(\"Enter the text you want to check\\n\").lower()\n",
        "reversed=txt[::-1]\n",
        "if txt==reversed:\n",
        "  print(f\"{txt} is a palindrome\")\n",
        "else:\n",
        "  print(f\"{txt} is not a palindrome\")"
      ],
      "metadata": {
        "colab": {
          "base_uri": "https://localhost:8080/"
        },
        "id": "Bg66jVgk907m",
        "outputId": "c878759b-6dd9-49b4-ea12-a4ffe8532dad"
      },
      "execution_count": 12,
      "outputs": [
        {
          "output_type": "stream",
          "name": "stdout",
          "text": [
            "Enter the text you want to check\n",
            "Radar\n",
            "radar is a palindrome\n"
          ]
        }
      ]
    },
    {
      "cell_type": "markdown",
      "source": [
        "**Q4. Write a code to check if two given strings are anagrams of each other**"
      ],
      "metadata": {
        "id": "1D2Z22PZ-sb7"
      }
    },
    {
      "cell_type": "code",
      "source": [
        "#Anagrams are those two words that if one gets rearranged becomes the second word.\n",
        "#Logic1. occurence of letters in both words are accurate\n",
        "#Logic2. if sorted they will become same word.\n",
        "\n",
        "#Using Logic 1\n",
        "from collections import Counter\n",
        "s1=input(\"Enter the first string for logic1\\n\").replace(\" \",\"\").lower()\n",
        "s2=input(\"Enter the second string for logic1\\n\").replace(\" \",\"\").lower()\n",
        "\n",
        "#lets check the length of both strings\n",
        "if len(s1)==len(s2):\n",
        "  if Counter(s1)==Counter(s2):\n",
        "    print(f\"{s1} and {s2} are anagrams\")\n",
        "  else:\n",
        "    print(f\"{s1} and {s2} are not anagrams\")\n",
        "else:\n",
        "    print(f\"{s1} and {s2} are not anagrams\")\n",
        "\n",
        "#Using logic2\n",
        "s3=input(\"Enter the first string for logic2\\n\").replace(\" \",\"\").lower()\n",
        "s4=input(\"Enter the second string for logic2\\n\").replace(\" \",\"\").lower()\n",
        "if sorted(s3)==sorted(s4):\n",
        "  print(f\"{s3} and {s4} are anagrams\")\n",
        "else:\n",
        "  print(f\"{s3} and {s4} are not anagrams\")\n",
        ""
      ],
      "metadata": {
        "colab": {
          "base_uri": "https://localhost:8080/"
        },
        "id": "phRYJSt--3KH",
        "outputId": "f62e3d0b-3260-44d3-89f9-7dacd88b97e7"
      },
      "execution_count": 16,
      "outputs": [
        {
          "output_type": "stream",
          "name": "stdout",
          "text": [
            "Enter the first string for logic1\n",
            "dormitory\n",
            "Enter the second string for logic1\n",
            "dirty room\n",
            "dormitory and dirtyroom are anagrams\n",
            "Enter the first string for logic2\n",
            "dormitory\n",
            "Enter the second string for logic2\n",
            "dirty room\n",
            "dormitory and dirtyroom are anagrams\n"
          ]
        }
      ]
    },
    {
      "cell_type": "markdown",
      "source": [
        "**Q5.  Write a code to find all occurrences of a given substring within another string.**"
      ],
      "metadata": {
        "id": "2UOpQbEmEKIk"
      }
    },
    {
      "cell_type": "code",
      "source": [
        "main_string = input(\"Enter the main string:\\n \").lower()\n",
        "sub_string = input(\"Enter the substring:\\n \").lower()\n",
        "count = 0\n",
        "index = main_string.find(sub_string)\n",
        "while index != -1:\n",
        "    count += 1\n",
        "    index = main_string.find(sub_string, index + 1)\n",
        "print(f\"The substring '{sub_string}' occurs {count} times in the main string '{main_string}'.\")\n",
        "\n"
      ],
      "metadata": {
        "colab": {
          "base_uri": "https://localhost:8080/"
        },
        "id": "fr3qUeihDnAa",
        "outputId": "d86d0e9a-fd50-4151-9885-c5ec7d7230d0"
      },
      "execution_count": 24,
      "outputs": [
        {
          "output_type": "stream",
          "name": "stdout",
          "text": [
            "Enter the main string:\n",
            " This string is blowing my mind.This string will mind its business\n",
            "Enter the substring:\n",
            " this string\n",
            "The substring 'this string' occurs 2 times in the main string 'this string is blowing my mind.this string will mind its business'.\n"
          ]
        }
      ]
    },
    {
      "cell_type": "markdown",
      "source": [
        "**Q6.  Write a code to perform basic string compression using the counts of repeated characters**"
      ],
      "metadata": {
        "id": "hcv9NXz-OfmJ"
      }
    },
    {
      "cell_type": "code",
      "source": [
        "str3 = input(\"Enter the string to compress: \")\n",
        "compressed = \"\"\n",
        "count = 1\n",
        "for i in range(1, len(str3)):\n",
        "    if str3[i] == str3[i - 1]:\n",
        "        count += 1\n",
        "    else:\n",
        "        compressed += str3[i - 1] + str(count)\n",
        "        count = 1\n",
        "compressed += str3[-1] + str(count)\n",
        "print(f\"Compressed string: {compressed}\")"
      ],
      "metadata": {
        "colab": {
          "base_uri": "https://localhost:8080/"
        },
        "id": "HeWTynaMEf6g",
        "outputId": "79b8ac6f-f727-4adb-baaa-0b9e12a9a12f"
      },
      "execution_count": 27,
      "outputs": [
        {
          "output_type": "stream",
          "name": "stdout",
          "text": [
            "Enter the string to compress: aaddffghw\n",
            "Compressed string: a2d2f2g1h1w1\n"
          ]
        }
      ]
    },
    {
      "cell_type": "markdown",
      "source": [
        "Q7. Write a code to determine if a string has all unique characters"
      ],
      "metadata": {
        "id": "NvUnkYmDWmhJ"
      }
    },
    {
      "cell_type": "code",
      "source": [
        "str4=input(\"Enter a text\\n\").replace(\" \",\"\")\n",
        "str4_set=set(str4)\n",
        "str4_list=list(str4)\n",
        "if len(str4_list)==len(str4_set):\n",
        "  print(f\"{str4} has all unique characters\")\n",
        "else:\n",
        "  print(f\"{str4} has duplicate characters\")"
      ],
      "metadata": {
        "colab": {
          "base_uri": "https://localhost:8080/"
        },
        "id": "QZJwu4Q3C5HT",
        "outputId": "796cd4bb-3e33-4cbd-dff0-fa23509c4809"
      },
      "execution_count": 43,
      "outputs": [
        {
          "output_type": "stream",
          "name": "stdout",
          "text": [
            "Enter a text\n",
            "Mr Jock TV quiz PhD  bags few lynx.\n",
            "MrJockTVquizPhDbagsfewlynx. has all unique characters\n"
          ]
        }
      ]
    },
    {
      "cell_type": "markdown",
      "source": [
        "Q8.  Write a code to convert a given string to uppercase or lowercase"
      ],
      "metadata": {
        "id": "iSxnp7jMbLLQ"
      }
    },
    {
      "cell_type": "code",
      "source": [
        "str5= input(\"Enter your text: \")\n",
        "str5_uc=str5.upper()\n",
        "str5_lc=str5.lower()\n",
        "print(f\"Original:{str5}\\nUppercase:{str5_uc}\\nLowercase:{str5_lc}\")"
      ],
      "metadata": {
        "colab": {
          "base_uri": "https://localhost:8080/"
        },
        "id": "S7za6E16ZYiU",
        "outputId": "d2da8e96-307e-4934-e949-6b6efa5ff964"
      },
      "execution_count": 45,
      "outputs": [
        {
          "output_type": "stream",
          "name": "stdout",
          "text": [
            "Enter your text: Yahoo is better than Google\n",
            "Original:Yahoo is better than Google\n",
            "Uppercase:YAHOO IS BETTER THAN GOOGLE\n",
            "Lowercase:yahoo is better than google\n"
          ]
        }
      ]
    },
    {
      "cell_type": "markdown",
      "source": [
        "**Q9.  Write a code to count the number of words in a string**"
      ],
      "metadata": {
        "id": "hmAFUJ8GcXa6"
      }
    },
    {
      "cell_type": "code",
      "source": [
        "str9= input(\"Enter your text: \").split()\n",
        "count=0\n",
        "for char in str9:\n",
        "  count+=1\n",
        "print(f\"No of words: {count}\")"
      ],
      "metadata": {
        "colab": {
          "base_uri": "https://localhost:8080/"
        },
        "id": "XhrqWyDacbaS",
        "outputId": "2a417cd8-8dd4-469f-fc8a-7d3e0db423c1"
      },
      "execution_count": 50,
      "outputs": [
        {
          "output_type": "stream",
          "name": "stdout",
          "text": [
            "Enter your text: Anubhav Issachar is thinking too much\n",
            "No of words: 6\n"
          ]
        }
      ]
    },
    {
      "cell_type": "markdown",
      "source": [
        "**Q10.Write a code to concatenate two strings without using the + operator**"
      ],
      "metadata": {
        "id": "vS7z8PlBdxrS"
      }
    },
    {
      "cell_type": "code",
      "source": [
        "str6=input(\"Enter first text\").split()\n",
        "str7=input(\"Enter second text\").split()\n",
        "str6.extend(str7)\n",
        "concatenated_string=\" \".join(str6)\n",
        "print(concatenated_string)"
      ],
      "metadata": {
        "colab": {
          "base_uri": "https://localhost:8080/"
        },
        "id": "uvO0Ye1Qd3dE",
        "outputId": "8ab9224e-250c-4340-a565-699d8a33d6b6"
      },
      "execution_count": 57,
      "outputs": [
        {
          "output_type": "stream",
          "name": "stdout",
          "text": [
            "Enter first textanubhav\n",
            "Enter second textissachar\n",
            "anubhav issachar\n"
          ]
        }
      ]
    },
    {
      "cell_type": "markdown",
      "source": [
        "**Q11.  Write a code to remove all occurrences of a specific element from a list**"
      ],
      "metadata": {
        "id": "UG6o37-5giZx"
      }
    },
    {
      "cell_type": "code",
      "source": [
        "list1 = input(\"Enter elements of the list separated by spaces: \").split()\n",
        "element_to_remove = input(\"Enter the element to remove: \")\n",
        "\n",
        "while element_to_remove in list1:\n",
        "    list1.remove(element_to_remove)\n",
        "\n",
        "print(\"Updated list:\", list1)"
      ],
      "metadata": {
        "colab": {
          "base_uri": "https://localhost:8080/"
        },
        "id": "F0Sd1Vxhgpmv",
        "outputId": "799677a5-dbb3-4647-aea8-09c7d2914f13"
      },
      "execution_count": 74,
      "outputs": [
        {
          "output_type": "stream",
          "name": "stdout",
          "text": [
            "Enter elements of the list separated by spaces: a a a ab b b b 1 1 1 1\n",
            "Enter the element to remove: a\n",
            "Updated list: ['ab', 'b', 'b', 'b', '1', '1', '1', '1']\n"
          ]
        }
      ]
    },
    {
      "cell_type": "markdown",
      "source": [],
      "metadata": {
        "id": "RnjjiCPWd2xz"
      }
    },
    {
      "cell_type": "markdown",
      "source": [
        "Q12. Implement a code to find the second largest number in a given list of integers"
      ],
      "metadata": {
        "id": "DRf-o6OyuUnn"
      }
    },
    {
      "cell_type": "code",
      "source": [
        "list2 = input(\"Enter elements of the list separated by spaces: \").split()\n",
        "a=sorted(list2)[-2]\n",
        "print(f\"The second largest number in the list is {a}\")"
      ],
      "metadata": {
        "colab": {
          "base_uri": "https://localhost:8080/"
        },
        "id": "R_NowlADuzly",
        "outputId": "3335a392-48cb-4e8a-8549-24805f19fbc0"
      },
      "execution_count": 75,
      "outputs": [
        {
          "output_type": "stream",
          "name": "stdout",
          "text": [
            "Enter elements of the list separated by spaces: 67 34 90 56 45 96 -123 -345 -2 -4 0\n",
            "The second largest number in the list is 90\n"
          ]
        }
      ]
    },
    {
      "cell_type": "markdown",
      "source": [
        "Q13. Create a code to count the occurrences of each element in a list and return a dictionary with elements as\n",
        "keys and their counts as values"
      ],
      "metadata": {
        "id": "w_XOig9jBZx6"
      }
    },
    {
      "cell_type": "code",
      "source": [
        "list3 = input(\"Enter elements of the list separated by spaces: \").split()\n",
        "count_dict = {}\n",
        "\n",
        "for element in list3:\n",
        "    if element in count_dict:\n",
        "        count_dict[element] += 1\n",
        "    else:\n",
        "        count_dict[element] = 1\n",
        "\n",
        "print(f\"Original list:\", {list3})\n",
        "print(f\"Occurrences of each element:\", {count_dict})\n"
      ],
      "metadata": {
        "colab": {
          "base_uri": "https://localhost:8080/"
        },
        "id": "DL2F0y_BBoHe",
        "outputId": "5471b1fd-1217-4bb2-8329-b9ad63e0589f"
      },
      "execution_count": 76,
      "outputs": [
        {
          "output_type": "stream",
          "name": "stdout",
          "text": [
            "Enter elements of the list separated by spaces: 11 12 12 14 11 12 14 12 14 12\n",
            "Original list: ['11', '12', '12', '14', '11', '12', '14', '12', '14', '12']\n",
            "Occurrences of each element: {'11': 2, '12': 5, '14': 3}\n"
          ]
        }
      ]
    },
    {
      "cell_type": "markdown",
      "source": [
        "**Q14.  Write a code to reverse a list in-place without using any built-in reverse function**"
      ],
      "metadata": {
        "id": "pFIwKFPqDU9x"
      }
    },
    {
      "cell_type": "code",
      "source": [
        "list4 = input(\"Enter elements of the list separated by spaces: \").split()\n",
        "\n",
        "left = 0\n",
        "right = len(list4) - 1\n",
        "\n",
        "while left < right:\n",
        "    list4[left], list4[right] = list4[right], list4[left]\n",
        "    left += 1\n",
        "    right -= 1\n",
        "print(f\"Reversed list:, {list4}\")\n"
      ],
      "metadata": {
        "colab": {
          "base_uri": "https://localhost:8080/"
        },
        "id": "VXOMlfvtDT3M",
        "outputId": "596da8d4-1482-472d-ec6e-87158727c552"
      },
      "execution_count": 77,
      "outputs": [
        {
          "output_type": "stream",
          "name": "stdout",
          "text": [
            "Enter elements of the list separated by spaces: 1 2 3 4 5 6\n",
            "Reversed list: ['6', '5', '4', '3', '2', '1']\n"
          ]
        }
      ]
    },
    {
      "cell_type": "markdown",
      "source": [
        "**Q15. Implement a code to find and remove duplicates from a list while preserving the original order of elements**"
      ],
      "metadata": {
        "id": "EfC891cIEHXR"
      }
    },
    {
      "cell_type": "code",
      "source": [
        "list5 = input(\"Enter elements of the list separated by spaces: \").split()\n",
        "set1=set()\n",
        "unique_list = []\n",
        "\n",
        "for element in list5:\n",
        "    if element not in set1:\n",
        "        set1.add(element)\n",
        "        unique_list.append(element)\n",
        "\n",
        "print(f\"Original list:{list5}\")\n",
        "print(f\"List with duplicates removed:{unique_list}\")"
      ],
      "metadata": {
        "colab": {
          "base_uri": "https://localhost:8080/"
        },
        "id": "SWwIiC4KEK4J",
        "outputId": "c3cffae5-c9f6-49d5-da7b-c7b9305234bd"
      },
      "execution_count": 81,
      "outputs": [
        {
          "output_type": "stream",
          "name": "stdout",
          "text": [
            "Enter elements of the list separated by spaces: 1 2 4 5 6 5 4 1 2\n",
            "Original list:['1', '2', '4', '5', '6', '5', '4', '1', '2']\n",
            "List with duplicates removed:['1', '2', '4', '5', '6']\n"
          ]
        }
      ]
    },
    {
      "cell_type": "markdown",
      "source": [
        "**Q16.  Create a code to check if a given list is sorted (either in ascending or descending order) or nOT**"
      ],
      "metadata": {
        "id": "GeoabA3lGHcg"
      }
    },
    {
      "cell_type": "code",
      "source": [
        "my_list = input(\"Enter elements of the list separated by spaces: \").split()\n",
        "\n",
        "if my_list == sorted(my_list):\n",
        "    print(\"The list is sorted in ascending order.\")\n",
        "elif my_list == sorted(my_list, reverse=True):\n",
        "    print(\"The list is sorted in descending order.\")\n",
        "else:\n",
        "    print(\"The list is not sorted.\")"
      ],
      "metadata": {
        "colab": {
          "base_uri": "https://localhost:8080/"
        },
        "id": "Q9QFKYlWGGdL",
        "outputId": "944344a9-3a9f-4be6-ac40-8d3125edbb4a"
      },
      "execution_count": 84,
      "outputs": [
        {
          "output_type": "stream",
          "name": "stdout",
          "text": [
            "Enter elements of the list separated by spaces: 5 4 3 2 1\n",
            "The list is sorted in descending order.\n"
          ]
        }
      ]
    },
    {
      "cell_type": "markdown",
      "source": [
        "**Q17.  Write a code to merge two sorted lists into a single sorted list.**"
      ],
      "metadata": {
        "id": "qZFiBp4EGygm"
      }
    },
    {
      "cell_type": "code",
      "source": [
        "list6 = input(\"Enter elements of the first list separated by spaces: \").split()\n",
        "list7 = input(\"Enter elements of the second list separated by spaces: \").split()\n",
        "\n",
        "list6=sorted([int(x) for x in list6])\n",
        "list7=sorted([int(x) for x in list7])\n",
        "\n",
        "list6.extend(list7)\n",
        "list8=sorted(list6)\n",
        "print(f\"Merged list:{list8}\")"
      ],
      "metadata": {
        "colab": {
          "base_uri": "https://localhost:8080/"
        },
        "id": "l2pLKiWEHBkY",
        "outputId": "cf6364ae-7753-47a3-a874-a5ad9a38aefc"
      },
      "execution_count": 88,
      "outputs": [
        {
          "output_type": "stream",
          "name": "stdout",
          "text": [
            "Enter elements of the first list separated by spaces:   12 23 7 14 8 5\n",
            "Enter elements of the second list separated by spaces: 6 2 8 4 54 7\n",
            "Merged list:[2, 4, 5, 6, 7, 7, 8, 8, 12, 14, 23, 54]\n"
          ]
        }
      ]
    },
    {
      "cell_type": "markdown",
      "source": [
        "**Q18. Implement a code to find the intersection of two given list**"
      ],
      "metadata": {
        "id": "EoDUxHy7IiO4"
      }
    },
    {
      "cell_type": "code",
      "source": [
        "from collections import Counter\n",
        "my_list = input(\"Enter elements of the list separated by spaces: \").split()\n",
        "my_list2 = input(\"Enter elements of the list separated by spaces: \").split()\n",
        "my_list.extend(my_list2)\n",
        "counts = Counter(my_list)\n",
        "print(counts)\n",
        "duplicates={}\n",
        "for item,count in counts.items():\n",
        "  if count>1:\n",
        "    print(f\"The element {item} is repeated {count} times\")\n",
        "    duplicates[item]=count\n",
        "intersection=list(duplicates.keys())\n",
        "print(f\"The intersection of the list is {intersection}\")\n"
      ],
      "metadata": {
        "colab": {
          "base_uri": "https://localhost:8080/"
        },
        "id": "b8di_fATIlvW",
        "outputId": "b436cc14-1570-4f35-df5e-b71da8bc8173"
      },
      "execution_count": 91,
      "outputs": [
        {
          "output_type": "stream",
          "name": "stdout",
          "text": [
            "Enter elements of the list separated by spaces: a b c d\n",
            "Enter elements of the list separated by spaces: d e f g\n",
            "Counter({'d': 2, 'a': 1, 'b': 1, 'c': 1, 'e': 1, 'f': 1, 'g': 1})\n",
            "The element d is repeated 2 times\n",
            "The intersection of the list is ['d']\n"
          ]
        }
      ]
    },
    {
      "cell_type": "markdown",
      "source": [
        "**Q19. Create a code to find the union of two lists without duplicate**"
      ],
      "metadata": {
        "id": "67VgL8FgoH5z"
      }
    },
    {
      "cell_type": "code",
      "source": [
        "list1 = input(\"Enter elements of the first list separated by spaces: \").split()\n",
        "list2 = input(\"Enter elements of the second list separated by spaces: \").split()\n",
        "\n",
        "union_set = set(list1) | set(list2)\n",
        "\n",
        "union_list = list(union_set)\n",
        "\n",
        "print(f\"Union of the two lists without duplicates:{union_list}\")\n"
      ],
      "metadata": {
        "colab": {
          "base_uri": "https://localhost:8080/"
        },
        "id": "Vg4Es1xRoMT_",
        "outputId": "571abb4e-de87-47d7-f402-0a44f7890584"
      },
      "execution_count": 1,
      "outputs": [
        {
          "output_type": "stream",
          "name": "stdout",
          "text": [
            "Enter elements of the first list separated by spaces: 1 2 3 4 5\n",
            "Enter elements of the second list separated by spaces: 3 4 5 6 7 8\n",
            "Union of the two lists without duplicates:['6', '5', '4', '3', '1', '8', '7', '2']\n"
          ]
        }
      ]
    },
    {
      "cell_type": "markdown",
      "source": [
        "**Q20. Write a code to shuffle a given list randomly without using any built-in shuffle function**"
      ],
      "metadata": {
        "id": "3QMZrn2XokJC"
      }
    },
    {
      "cell_type": "code",
      "source": [
        "import random\n",
        "\n",
        "list9 = input(\"Enter elements of the list separated by spaces: \").split()\n",
        "print(f\"Actual List:{list9}\")\n",
        "for i in range(len(list9)):\n",
        "    j = random.randint(0, len(list9) - 1)\n",
        "    list9[i], list9[j] = list9[j], list9[i]\n",
        "\n",
        "print(f\"Shuffled list:{list9}\")\n"
      ],
      "metadata": {
        "colab": {
          "base_uri": "https://localhost:8080/"
        },
        "id": "jnZQfl_Jow6I",
        "outputId": "3a3ac161-1401-4236-e672-12c9c74e7caa"
      },
      "execution_count": 3,
      "outputs": [
        {
          "output_type": "stream",
          "name": "stdout",
          "text": [
            "Enter elements of the list separated by spaces: 1 2 3 4 5\n",
            "Actual List:['1', '2', '3', '4', '5']\n",
            "Shuffled list:['3', '5', '4', '2', '1']\n"
          ]
        }
      ]
    },
    {
      "cell_type": "markdown",
      "source": [
        "**Q21. Write a code that takes two tuples as input and returns a new tuple containing elements that are common to both input tuples**"
      ],
      "metadata": {
        "id": "jCHFsmEcp1Rj"
      }
    },
    {
      "cell_type": "code",
      "source": [
        "tuple1 = input(\"Enter elements of the first tuple separated by spaces: \").split()\n",
        "tuple2 = input(\"Enter elements of the second tuple separated by spaces: \").split()\n",
        "\n",
        "tuple1 = tuple(tuple1)\n",
        "tuple2 = tuple(tuple2)\n",
        "\n",
        "common_elements = tuple(item for item in tuple1 if item in tuple2)\n",
        "\n",
        "print(f\"Common elements: {common_elements}\")\n"
      ],
      "metadata": {
        "colab": {
          "base_uri": "https://localhost:8080/"
        },
        "id": "pySsyrCLqD4r",
        "outputId": "ec5d544d-5ebd-43ee-f70d-0fb0ebf2ec1b"
      },
      "execution_count": 4,
      "outputs": [
        {
          "output_type": "stream",
          "name": "stdout",
          "text": [
            "Enter elements of the first tuple separated by spaces: 1 2 3 4 5 6\n",
            "Enter elements of the second tuple separated by spaces: 5 6 7 8 9 0\n",
            "Common elements: ('5', '6')\n"
          ]
        }
      ]
    },
    {
      "cell_type": "markdown",
      "source": [
        "**Q22. Create a code that prompts the user to enter two sets of integers separated by commas. Then, print the intersection of these two sets**"
      ],
      "metadata": {
        "id": "u5KCQD1bqVPV"
      }
    },
    {
      "cell_type": "code",
      "source": [
        "set1_USER = input(\"Enter the first set of integers separated by commas: \")\n",
        "set2_USER = input(\"Enter the second set of integers separated by commas: \")\n",
        "\n",
        "set1 = {int(x) for x in set1_USER.split(',')}\n",
        "set2 = {int(x) for x in set2_USER.split(',')}\n",
        "\n",
        "intersection = set1.intersection(set2)\n",
        "\n",
        "print(\"Intersection of the two sets:\", intersection)\n"
      ],
      "metadata": {
        "colab": {
          "base_uri": "https://localhost:8080/"
        },
        "id": "dOtEhxQ7qlio",
        "outputId": "92192da7-f5a6-4966-d0ca-5788dd4da738"
      },
      "execution_count": 5,
      "outputs": [
        {
          "output_type": "stream",
          "name": "stdout",
          "text": [
            "Enter the first set of integers separated by commas: 1,2,3,4,5,6,7\n",
            "Enter the second set of integers separated by commas: 3,4,5,6,7,8,9\n",
            "Intersection of the two sets: {3, 4, 5, 6, 7}\n"
          ]
        }
      ]
    },
    {
      "cell_type": "markdown",
      "source": [
        "**Q23.  Write a code to concatenate two tuples. The function should take two tuples as input and return a new tuple containing elements from both input tuple**"
      ],
      "metadata": {
        "id": "rAm4UWabrFm-"
      }
    },
    {
      "cell_type": "code",
      "source": [
        "tuple3_input = input(\"Enter elements of the first tuple separated by spaces: \").split()\n",
        "tuple4_input = input(\"Enter elements of the second tuple separated by spaces: \").split()\n",
        "\n",
        "tuple3 = tuple(tuple3_input)\n",
        "tuple4 = tuple(tuple4_input)\n",
        "\n",
        "result_tuple = tuple3 + tuple4\n",
        "\n",
        "print(f\"Concatenated tuple:{result_tuple}\")\n"
      ],
      "metadata": {
        "colab": {
          "base_uri": "https://localhost:8080/"
        },
        "id": "nUC9-oFtrYlr",
        "outputId": "3f8833ce-deed-421b-a4f3-052d423bca4d"
      },
      "execution_count": 6,
      "outputs": [
        {
          "output_type": "stream",
          "name": "stdout",
          "text": [
            "Enter elements of the first tuple separated by spaces: 1 2 3 4 5 6 7 8 9\n",
            "Enter elements of the second tuple separated by spaces: a b c d e f g\n",
            "Concatenated tuple:('1', '2', '3', '4', '5', '6', '7', '8', '9', 'a', 'b', 'c', 'd', 'e', 'f', 'g')\n"
          ]
        }
      ]
    },
    {
      "cell_type": "markdown",
      "source": [
        "**Q24.  Develop a code that prompts the user to input two sets of strings. Then,print the elements that are present in the first set but not in the second set**"
      ],
      "metadata": {
        "id": "awaqDqtIr7hS"
      }
    },
    {
      "cell_type": "code",
      "source": [
        "set1_input = input(\"Enter the first set of strings separated by commas: \")\n",
        "set2_input = input(\"Enter the second set of strings separated by commas: \")\n",
        "\n",
        "set1 = {s.strip() for s in set1_input.split(',')}\n",
        "set2 = {s.strip() for s in set2_input.split(',')}\n",
        "\n",
        "difference = set1 - set2\n",
        "\n",
        "print(f\"Elements in the first set but not in the second set:{difference}\")\n"
      ],
      "metadata": {
        "colab": {
          "base_uri": "https://localhost:8080/"
        },
        "id": "k_BHHjYUsJ2q",
        "outputId": "199943fb-26d4-44c2-fdb8-5f76df26fa8d"
      },
      "execution_count": 7,
      "outputs": [
        {
          "output_type": "stream",
          "name": "stdout",
          "text": [
            "Enter the first set of strings separated by commas: 1,2,3,4,5\n",
            "Enter the second set of strings separated by commas: 2,3,4,5,6,7,8\n",
            "Elements in the first set but not in the second set:{'1'}\n"
          ]
        }
      ]
    },
    {
      "cell_type": "markdown",
      "source": [
        "Q25.  Create a code that takes a tuple and two integers as input. The function should return a new tuple containing elements from the original tuple within the specified range of indices"
      ],
      "metadata": {
        "id": "j2KdAAPQCYyz"
      }
    },
    {
      "cell_type": "code",
      "source": [
        "tuple_input = input(\"Enter elements of the tuple separated by spaces: \").split()\n",
        "original_tuple = tuple(tuple_input)\n",
        "start_index = int(input(\"Enter the start index: \"))\n",
        "end_index = int(input(\"Enter the end index: \"))\n",
        "result_tuple = original_tuple[start_index:end_index]\n",
        "print(f\"New tuple with elements in the specified range:{result_tuple}\")\n"
      ],
      "metadata": {
        "colab": {
          "base_uri": "https://localhost:8080/"
        },
        "id": "hs-BcSWrDWbh",
        "outputId": "81fcb5a3-9e2f-4333-d0e6-3c5622a67206"
      },
      "execution_count": 8,
      "outputs": [
        {
          "output_type": "stream",
          "name": "stdout",
          "text": [
            "Enter elements of the tuple separated by spaces: 23 45 65 67 45 34 4\n",
            "Enter the start index: 2\n",
            "Enter the end index: 4\n",
            "New tuple with elements in the specified range:('65', '67')\n"
          ]
        }
      ]
    },
    {
      "cell_type": "markdown",
      "source": [
        "**Q26, Write a code that prompts the user to input two sets of characters. Then, print the union of these two sets**"
      ],
      "metadata": {
        "id": "simDAbpEE_IP"
      }
    },
    {
      "cell_type": "code",
      "source": [
        "set5_input = input(\"Enter the first set of characters separated by spaces: \")\n",
        "set6_input = input(\"Enter the second set of characters separated by spaces: \")\n",
        "\n",
        "set5 = {char for char in set5_input.split()}\n",
        "set6 = {char for char in set6_input.split()}\n",
        "\n",
        "union_set = set5.union(set6)\n",
        "\n",
        "print(f\"Union of the two sets:{union_set}\")\n"
      ],
      "metadata": {
        "colab": {
          "base_uri": "https://localhost:8080/"
        },
        "id": "PVA3aBnWFZzz",
        "outputId": "09f17b11-2e9c-48b2-b206-976d62a089ee"
      },
      "execution_count": 9,
      "outputs": [
        {
          "output_type": "stream",
          "name": "stdout",
          "text": [
            "Enter the first set of characters separated by spaces: a b c d w e q r\n",
            "Enter the second set of characters separated by spaces: q w e r t y\n",
            "Union of the two sets:{'d', 'q', 'e', 'w', 'y', 'a', 'r', 'b', 'c', 't'}\n"
          ]
        }
      ]
    },
    {
      "cell_type": "markdown",
      "source": [
        "**Q27. Develop a code that takes a tuple of integers as input. The function should return the maximum and minimum values from the tuple using tuple unpacking**"
      ],
      "metadata": {
        "id": "AijevJzvGCbR"
      }
    },
    {
      "cell_type": "code",
      "source": [
        "tuple_input = input(\"Enter integers for the tuple separated by spaces: \").split()\n",
        "original_tuple = tuple(int(x) for x in tuple_input)\n",
        "max_value = max(original_tuple)\n",
        "min_value = min(original_tuple)\n",
        "print(f\"Maximum value:{max_value}\")\n",
        "print(f\"Minimum value:{min_value}\")\n"
      ],
      "metadata": {
        "colab": {
          "base_uri": "https://localhost:8080/"
        },
        "id": "ttZGawEeGeui",
        "outputId": "23eacc2f-c2cd-4749-f313-79bb61b5449f"
      },
      "execution_count": 10,
      "outputs": [
        {
          "output_type": "stream",
          "name": "stdout",
          "text": [
            "Enter integers for the tuple separated by spaces: 1 2 3 4 5 6 7\n",
            "Maximum value:7\n",
            "Minimum value:1\n"
          ]
        }
      ]
    },
    {
      "cell_type": "markdown",
      "source": [
        "**Q28.  Create a code that defines two sets of integers. Then, print the union, intersection, and difference of these two sets**"
      ],
      "metadata": {
        "id": "FgPmUXlcG1qb"
      }
    },
    {
      "cell_type": "code",
      "source": [
        "set7 = {1, 2, 3, 4, 5}\n",
        "set8 = {4, 5, 6, 7, 8}\n",
        "\n",
        "union_set = set7.union(set8)\n",
        "intersection_set = set7.intersection(set8)\n",
        "difference_set = set7.difference(set8)\n",
        "\n",
        "print(f\"Union of the two sets:{union_set}\")\n",
        "print(f\"Intersection of the two sets:{intersection_set}\")\n",
        "print(f\"Difference (set1 - set2):{difference_set}\")\n"
      ],
      "metadata": {
        "colab": {
          "base_uri": "https://localhost:8080/"
        },
        "id": "Yut6JcbeHTYE",
        "outputId": "6f18e038-b1d0-4031-a437-6d7cd90099f9"
      },
      "execution_count": 11,
      "outputs": [
        {
          "output_type": "stream",
          "name": "stdout",
          "text": [
            "Union of the two sets:{1, 2, 3, 4, 5, 6, 7, 8}\n",
            "Intersection of the two sets:{4, 5}\n",
            "Difference (set1 - set2):{1, 2, 3}\n"
          ]
        }
      ]
    },
    {
      "cell_type": "markdown",
      "source": [
        "**Q29. Write a code that takes a tuple and an element as input. The function should return the count of occurrences of the given element in the tuple**"
      ],
      "metadata": {
        "id": "GOsFG9pFHxGo"
      }
    },
    {
      "cell_type": "code",
      "source": [
        "tuple_input = input(\"Enter elements of the tuple separated by spaces: \").split()\n",
        "original_tuple = tuple(tuple_input)\n",
        "\n",
        "element_input = input(\"Enter the element to count: \")\n",
        "\n",
        "count = original_tuple.count(element_input)\n",
        "\n",
        "print(f\"Count of occurrences of {element_input} in the tuple:{count}\")\n"
      ],
      "metadata": {
        "colab": {
          "base_uri": "https://localhost:8080/"
        },
        "id": "35Rzqr1eINhQ",
        "outputId": "8699c78f-8af8-413f-e85a-0a838ab41a71"
      },
      "execution_count": 12,
      "outputs": [
        {
          "output_type": "stream",
          "name": "stdout",
          "text": [
            "Enter elements of the tuple separated by spaces: a b c d a a a b s f g\n",
            "Enter the element to count: a\n",
            "Count of occurrences of a in the tuple:4\n"
          ]
        }
      ]
    },
    {
      "cell_type": "markdown",
      "source": [
        "**Q30. Develop a code that prompts the user to input two sets of strings. Then, print the symmetric difference of these two sets**"
      ],
      "metadata": {
        "id": "9Pae1cxEIrC2"
      }
    },
    {
      "cell_type": "code",
      "source": [
        "set1_input = input(\"Enter the first set of strings separated by commas: \")\n",
        "set2_input = input(\"Enter the second set of strings separated by commas: \")\n",
        "set1 = {s.strip() for s in set1_input.split(',')}\n",
        "set2 = {s.strip() for s in set2_input.split(',')}\n",
        "symmetric_difference = set1.symmetric_difference(set2)\n",
        "print(f\"Symmetric difference of the two sets: {symmetric_difference}\")\n"
      ],
      "metadata": {
        "colab": {
          "base_uri": "https://localhost:8080/"
        },
        "id": "94fIfFHMIvuy",
        "outputId": "2007abe5-b629-430d-f993-d42ceb9369af"
      },
      "execution_count": 14,
      "outputs": [
        {
          "output_type": "stream",
          "name": "stdout",
          "text": [
            "Enter the first set of strings separated by commas: a,b,c,d,w,e,r\n",
            "Enter the second set of strings separated by commas: q,w,e,r,t,y\n",
            "Symmetric difference of the two sets: {'d', 'q', 'y', 'a', 'b', 'c', 't'}\n"
          ]
        }
      ]
    },
    {
      "cell_type": "markdown",
      "source": [],
      "metadata": {
        "id": "N8J1-n7IJYHM"
      }
    },
    {
      "cell_type": "markdown",
      "source": [
        "**Q31. Write a code that takes a list of words as input and returns a dictionary where the keys are unique words and the values are the frequencies of those words in the input list**"
      ],
      "metadata": {
        "id": "JCrDzK_IJbDq"
      }
    },
    {
      "cell_type": "code",
      "source": [
        "words_input = input(\"Enter a list of words separated by spaces: \").split()\n",
        "word_frequencies = {}\n",
        "for word in words_input:\n",
        "    word_frequencies[word] = word_frequencies.get(word, 0) + 1\n",
        "print(f\"Word frequencies:{word_frequencies}\")\n"
      ],
      "metadata": {
        "colab": {
          "base_uri": "https://localhost:8080/"
        },
        "id": "jBlCstzWJm6F",
        "outputId": "75587a1b-afd6-44b4-ab7a-9730290a28bf"
      },
      "execution_count": 16,
      "outputs": [
        {
          "output_type": "stream",
          "name": "stdout",
          "text": [
            "Enter a list of words separated by spaces: anubhav issachar anubhav issachar pwskills\n",
            "Word frequencies:{'anubhav': 2, 'issachar': 2, 'pwskills': 1}\n"
          ]
        }
      ]
    },
    {
      "cell_type": "markdown",
      "source": [
        "Q32. Write a code that takes two dictionaries as input and merges them into a single dictionary. If there are common keys, the values should be added together"
      ],
      "metadata": {
        "id": "J1Sasp8VKCfc"
      }
    },
    {
      "cell_type": "code",
      "source": [
        "dict1_input = input(\"Enter the first dictionary (key:value pairs separated by commas): \")\n",
        "dict1 = dict(item.split(':') for item in dict1_input.split(','))\n",
        "\n",
        "dict2_input = input(\"Enter the second dictionary (key:value pairs separated by commas): \")\n",
        "dict2 = dict(item.split(':') for item in dict2_input.split(','))\n",
        "\n",
        "dict1 = {k: int(v) for k, v in dict1.items()}\n",
        "dict2 = {k: int(v) for k, v in dict2.items()}\n",
        "\n",
        "merged_dict = dict1.copy()\n",
        "\n",
        "for key, value in dict2.items():\n",
        "    if key in merged_dict:\n",
        "        merged_dict[key] += value\n",
        "    else:\n",
        "        merged_dict[key] = value\n",
        "\n",
        "print(\"Merged dictionary:\", merged_dict)\n"
      ],
      "metadata": {
        "colab": {
          "base_uri": "https://localhost:8080/"
        },
        "id": "PLXgFidmLrMa",
        "outputId": "d5503ad9-97df-4d1e-9caf-cf0d80db372e"
      },
      "execution_count": 17,
      "outputs": [
        {
          "output_type": "stream",
          "name": "stdout",
          "text": [
            "Enter the first dictionary (key:value pairs separated by commas): Oranges:2,Mangoes:3,Potato:3,Tomato:4\n",
            "Enter the second dictionary (key:value pairs separated by commas): Oranges:1,Mangoes:4,Potato:1,Tomato:5,Apple:5\n",
            "Merged dictionary: {'Oranges': 3, 'Mangoes': 7, 'Potato': 4, 'Tomato': 9, 'Apple': 5}\n"
          ]
        }
      ]
    },
    {
      "cell_type": "markdown",
      "source": [
        "**Q33. Write a code to access a value in a nested dictionary. The function should take the dictionary and a list of keys as input, and return the corresponding value. If any of the keys do not exist in the dictionary, the function should return None**"
      ],
      "metadata": {
        "id": "mfSOD104MV2l"
      }
    },
    {
      "cell_type": "code",
      "source": [
        "nested_dictionary = {\n",
        "    'samosa': {\n",
        "        'type': 'savory',\n",
        "        'filling': 'spiced potatoes',\n",
        "        'fun_fact': 'Often enjoyed with mint chutney, they disappear faster than you can say \"chai!\"'\n",
        "    },\n",
        "    'jalebi': {\n",
        "        'type': 'sweet',\n",
        "        'shape': 'spiral',\n",
        "        'fun_fact': 'Fried and soaked in sugar syrup, it’s a delight that dances on your tongue!'\n",
        "    },\n",
        "    'biryani': {\n",
        "        'type': 'main course',\n",
        "        'flavor': 'aromatic',\n",
        "        'fun_fact': 'A plate of biryani can start a family feud over the last morsel!'\n",
        "    }\n",
        "}\n",
        "\n",
        "keys_input = input(\"Enter the Indian snack keys separated by spaces (e.g., samosa fun_fact): \").split()\n",
        "\n",
        "current_value = nested_dictionary\n",
        "\n",
        "for key in keys_input:\n",
        "    if key in current_value:\n",
        "        current_value = current_value[key]\n",
        "    else:\n",
        "        current_value = None\n",
        "        break\n",
        "\n",
        "if current_value is None:\n",
        "    print(f\"Oops! It seems like that snack is missing from our Indian snack festival!: {current_value}\")\n",
        "else:\n",
        "    print(f\"The secret about your snack is: {current_value}\")\n"
      ],
      "metadata": {
        "colab": {
          "base_uri": "https://localhost:8080/"
        },
        "id": "sPahDJLgNWdQ",
        "outputId": "b52321c2-4bbf-4117-80dc-0df3c20275b7"
      },
      "execution_count": 20,
      "outputs": [
        {
          "output_type": "stream",
          "name": "stdout",
          "text": [
            "Enter the Indian snack keys separated by spaces (e.g., samosa fun_fact): chamcham shape\n",
            "Oops! It seems like that snack is missing from our Indian snack festival!: None\n"
          ]
        }
      ]
    },
    {
      "cell_type": "markdown",
      "source": [
        "**Q34. Write a code that takes a dictionary as input and returns a sorted version of it based on the values. You can choose whether to sort in ascending or descending order**"
      ],
      "metadata": {
        "id": "eigBuRUlPAAp"
      }
    },
    {
      "cell_type": "code",
      "source": [
        "books = {\n",
        "    \"The Great Gatsby\": 4.3,\n",
        "    \"To Kill a Mockingbird\": 4.8,\n",
        "    \"1984\": 4.2,\n",
        "    \"Pride and Prejudice\": 4.6,\n",
        "    \"The Catcher in the Rye\": 3.8\n",
        "}\n",
        "\n",
        "order_input = input(\"Do you want to sort the books in ascending or descending order? (a/d): \").strip().lower()\n",
        "\n",
        "if order_input == 'a':\n",
        "    sorted_books = dict(sorted(books.items(), key=lambda item: item[1]))\n",
        "elif order_input == 'd':\n",
        "    sorted_books = dict(sorted(books.items(), key=lambda item: item[1], reverse=True))\n",
        "else:\n",
        "    sorted_books = {}\n",
        "    print(\"Invalid input! Please enter 'a' for ascending or 'd' for descending.\")\n",
        "\n",
        "if sorted_books:\n",
        "    print(\"Sorted books based on ratings:\")\n",
        "    for title, rating in sorted_books.items():\n",
        "        print(f\"{title}: {rating}\")\n"
      ],
      "metadata": {
        "colab": {
          "base_uri": "https://localhost:8080/"
        },
        "id": "k6oLVYopPKUj",
        "outputId": "5f2d5e62-e602-4007-c953-4a7058418b07"
      },
      "execution_count": 21,
      "outputs": [
        {
          "output_type": "stream",
          "name": "stdout",
          "text": [
            "Do you want to sort the books in ascending or descending order? (a/d): D\n",
            "Sorted books based on ratings:\n",
            "To Kill a Mockingbird: 4.8\n",
            "Pride and Prejudice: 4.6\n",
            "The Great Gatsby: 4.3\n",
            "1984: 4.2\n",
            "The Catcher in the Rye: 3.8\n"
          ]
        }
      ]
    },
    {
      "cell_type": "markdown",
      "source": [
        "**Q35.  Write a code that inverts a dictionary, swapping keys and values. Ensure that the inverted dictionary correctly handles cases where multiple keys have the same value by storing the keys as a list in the inverted dictionary.**"
      ],
      "metadata": {
        "id": "t0PCqsD5PeWj"
      }
    },
    {
      "cell_type": "code",
      "source": [
        "movies = {\n",
        "    \"Inception\": \"Christopher Nolan\",\n",
        "    \"Interstellar\": \"Christopher Nolan\",\n",
        "    \"The Matrix\": \"Lana Wachowski, Lilly Wachowski\",\n",
        "    \"Pulp Fiction\": \"Quentin Tarantino\",\n",
        "    \"Django Unchained\": \"Quentin Tarantino\"\n",
        "}\n",
        "inverted_movies = {}\n",
        "\n",
        "for movie, director in movies.items():\n",
        "    if director in inverted_movies:\n",
        "        inverted_movies[director].append(movie)\n",
        "    else:\n",
        "        inverted_movies[director] = [movie]\n",
        "\n",
        "print(\"Inverted dictionary of directors and their movies:\")\n",
        "for director, movie_list in inverted_movies.items():\n",
        "    print(f\"{director}: {', '.join(movie_list)}\")\n"
      ],
      "metadata": {
        "colab": {
          "base_uri": "https://localhost:8080/"
        },
        "id": "xBUP1MS-PnUa",
        "outputId": "de8ea541-1a5a-4816-b27d-69bcb01c1203"
      },
      "execution_count": 22,
      "outputs": [
        {
          "output_type": "stream",
          "name": "stdout",
          "text": [
            "Inverted dictionary of directors and their movies:\n",
            "Christopher Nolan: Inception, Interstellar\n",
            "Lana Wachowski, Lilly Wachowski: The Matrix\n",
            "Quentin Tarantino: Pulp Fiction, Django Unchained\n"
          ]
        }
      ]
    }
  ]
}