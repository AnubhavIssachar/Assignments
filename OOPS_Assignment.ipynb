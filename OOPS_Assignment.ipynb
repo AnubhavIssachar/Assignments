{
  "nbformat": 4,
  "nbformat_minor": 0,
  "metadata": {
    "colab": {
      "provenance": []
    },
    "kernelspec": {
      "name": "python3",
      "display_name": "Python 3"
    },
    "language_info": {
      "name": "python"
    }
  },
  "cells": [
    {
      "cell_type": "markdown",
      "source": [
        "**Q1. 1. What are the five key concepts of Object-Oriented Programming (OOP)?**\n",
        "\n",
        "Ans. The five key concepts of OOP are:\n",
        "\n",
        "Encapsulation: Bundling the data (attributes) and methods (functions) that operate on the data into a single unit called a class. It helps in restricting access to some of the object's components, making the object’s state hidden from the outside world.\n",
        "\n",
        "Abstraction: Hiding the complex implementation details and exposing only the necessary parts. This allows the programmer to focus on interactions with the object without worrying about internal details.\n",
        "\n",
        "Inheritance: A mechanism for creating a new class from an existing class, inheriting attributes and methods from the parent class, thus promoting code reusability.\n",
        "\n",
        "Polymorphism: The ability of different objects to respond to the same method or operator in their own way. It allows the same function name to behave differently on different classes.\n",
        "\n",
        "Composition: The concept of building complex objects by combining simpler objects. It is a form of association, where one object contains other objects.\n",
        "\n"
      ],
      "metadata": {
        "id": "74ZpX1HebVBf"
      }
    },
    {
      "cell_type": "markdown",
      "source": [
        "**Q2 2. Write a Python class for a Car with attributes for make, model, and year. Include a method to display the car's information.**"
      ],
      "metadata": {
        "id": "upO1o5nXbnnQ"
      }
    },
    {
      "cell_type": "code",
      "execution_count": 1,
      "metadata": {
        "colab": {
          "base_uri": "https://localhost:8080/"
        },
        "id": "YD6TKWzSbP2k",
        "outputId": "efe7e788-35e3-4bc5-b8e7-1c85882cc7b5"
      },
      "outputs": [
        {
          "output_type": "stream",
          "name": "stdout",
          "text": [
            "Car: 2020 Toyota Corolla\n"
          ]
        }
      ],
      "source": [
        "class Car:\n",
        "    def __init__(self, make, model, year):\n",
        "        self.make = make\n",
        "        self.model = model\n",
        "        self.year = year\n",
        "\n",
        "    def display_info(self):\n",
        "        print(f\"Car: {self.year} {self.make} {self.model}\")\n",
        "\n",
        "# Example usage\n",
        "car = Car(\"Toyota\", \"Corolla\", 2020)\n",
        "car.display_info()\n"
      ]
    },
    {
      "cell_type": "markdown",
      "source": [
        "**Q3.Explain the difference between instance methods and class methods. Provide an example of each.**"
      ],
      "metadata": {
        "id": "XrrH5EIgb8JQ"
      }
    },
    {
      "cell_type": "markdown",
      "source": [],
      "metadata": {
        "id": "oVpGcLyXbUE9"
      }
    },
    {
      "cell_type": "code",
      "source": [
        "#Instance Methods: These are the methods that operate on the instance (object) of the class and can access instance variables. They are the most common type of methods in a class.\n",
        "\n",
        "class MyClass:\n",
        "    def instance_method(self):\n",
        "        print(\"This is an instance method.\")\n",
        "\n",
        "obj = MyClass()\n",
        "obj.instance_method()\n",
        "\n",
        "#Class Methods: These are methods that operate on the class itself, not the instance. They are defined using the @classmethod decorator and can access class-level attributes.\n",
        "\n",
        "class MyClass:\n",
        "    class_variable = \"I am a class variable\"\n",
        "\n",
        "    @classmethod\n",
        "    def class_method(cls):\n",
        "        print(f\"This is a class method. Class variable: {cls.class_variable}\")\n",
        "\n",
        "MyClass.class_method()\n"
      ],
      "metadata": {
        "colab": {
          "base_uri": "https://localhost:8080/"
        },
        "id": "hS_sBIRlcIHr",
        "outputId": "0dc12080-c8e9-4694-ae0f-bb4d6a4f1e88"
      },
      "execution_count": 2,
      "outputs": [
        {
          "output_type": "stream",
          "name": "stdout",
          "text": [
            "This is an instance method.\n",
            "This is a class method. Class variable: I am a class variable\n"
          ]
        }
      ]
    },
    {
      "cell_type": "markdown",
      "source": [
        "**Q4.How does Python implement method overloading? Give an example**"
      ],
      "metadata": {
        "id": "N-IiPMJKcXZz"
      }
    },
    {
      "cell_type": "code",
      "source": [
        "#Python does not support traditional method overloading (like in Java or C++), where multiple methods can have the same name but different signatures. However, you can simulate method overloading using default arguments or variable-length arguments (*args and **kwargs).\n",
        "\n",
        "class MyClass:\n",
        "    def greet(self, name=\"Guest\"):\n",
        "        print(f\"Hello, {name}!\")\n",
        "\n",
        "obj = MyClass()\n",
        "obj.greet()        # No argument\n",
        "obj.greet(\"John\")  # With argument\n"
      ],
      "metadata": {
        "colab": {
          "base_uri": "https://localhost:8080/"
        },
        "id": "ownil0jwceKG",
        "outputId": "51a5660d-1b5a-4ee4-bcdf-1edf83d6ce49"
      },
      "execution_count": 3,
      "outputs": [
        {
          "output_type": "stream",
          "name": "stdout",
          "text": [
            "Hello, Guest!\n",
            "Hello, John!\n"
          ]
        }
      ]
    },
    {
      "cell_type": "markdown",
      "source": [
        "**Q5.What are the three types of access modifiers in Python? How are they denoted?**"
      ],
      "metadata": {
        "id": "XvzZzgA2cmKk"
      }
    },
    {
      "cell_type": "markdown",
      "source": [
        "There are three types of access modifiers in Python:\n",
        "\n",
        "Public: Accessible from anywhere. Denoted by no underscore.\n",
        "\n",
        "Example: self.attribute\n",
        "\n",
        "\n",
        "Protected: Intended to be accessed within the class and subclasses. Denoted by a single underscore (_).\n",
        "\n",
        "Example: self._attribute\n",
        "\n",
        "\n",
        "Private: Intended to be accessible only within the class. Denoted by double underscore (__).\n",
        "\n",
        "Example: self.__attribute\n"
      ],
      "metadata": {
        "id": "09KlazoQcuHr"
      }
    },
    {
      "cell_type": "markdown",
      "source": [
        "**Q.6. Describe the five types of inheritance in Python. Provide a simple example of multiple inheritance.**"
      ],
      "metadata": {
        "id": "T9Y8LFvQdImL"
      }
    },
    {
      "cell_type": "markdown",
      "source": [
        "Single Inheritance: A class inherits from a single parent class.\n",
        "\n",
        "Multiple Inheritance: A class inherits from more than one parent class.\n",
        "\n",
        "Multilevel Inheritance: A class is derived from a class which is also derived from another class.\n",
        "\n",
        "Hierarchical Inheritance: Multiple classes inherit from a single parent class.\n",
        "\n",
        "Hybrid Inheritance: A combination of two or more types of inheritance."
      ],
      "metadata": {
        "id": "vOKHBE3qdQJv"
      }
    },
    {
      "cell_type": "code",
      "source": [
        "class Engine:\n",
        "    def start_engine(self):\n",
        "        print(\"Engine started.\")\n",
        "\n",
        "class Car(Engine):\n",
        "    def drive(self):\n",
        "        print(\"Car is driving.\")\n",
        "\n",
        "car = Car()\n",
        "car.start_engine()\n",
        "car.drive()\n"
      ],
      "metadata": {
        "colab": {
          "base_uri": "https://localhost:8080/"
        },
        "id": "LntGOd25dRdK",
        "outputId": "0fd37b15-765a-4b2a-8355-7ff2088f529e"
      },
      "execution_count": 4,
      "outputs": [
        {
          "output_type": "stream",
          "name": "stdout",
          "text": [
            "Engine started.\n",
            "Car is driving.\n"
          ]
        }
      ]
    },
    {
      "cell_type": "markdown",
      "source": [
        "**7. What is the Method Resolution Order (MRO) in Python? How can you retrieve it programmatically?**"
      ],
      "metadata": {
        "id": "xu7tUFj8dcKm"
      }
    },
    {
      "cell_type": "markdown",
      "source": [
        "MRO is the order in which methods are inherited in the case of multiple inheritance. Python uses the C3 linearization algorithm to determine the MRO.\n",
        "\n",
        "You can retrieve the MRO programmatically using the mro() method:"
      ],
      "metadata": {
        "id": "BwKz7lmieNFb"
      }
    },
    {
      "cell_type": "code",
      "source": [
        "class A:\n",
        "    def method(self):\n",
        "        print(\"A method\")\n",
        "\n",
        "class B(A):\n",
        "    def method(self):\n",
        "        print(\"B method\")\n",
        "\n",
        "class C(A):\n",
        "    def method(self):\n",
        "        print(\"C method\")\n",
        "\n",
        "class D(B, C):\n",
        "    pass\n",
        "\n",
        "print(D.mro())\n"
      ],
      "metadata": {
        "colab": {
          "base_uri": "https://localhost:8080/"
        },
        "id": "oDAP33cleOaO",
        "outputId": "053094f0-0eef-4fcd-f7dc-77b947c5d673"
      },
      "execution_count": 5,
      "outputs": [
        {
          "output_type": "stream",
          "name": "stdout",
          "text": [
            "[<class '__main__.D'>, <class '__main__.B'>, <class '__main__.C'>, <class '__main__.A'>, <class 'object'>]\n"
          ]
        }
      ]
    },
    {
      "cell_type": "markdown",
      "source": [
        "**8. Create an abstract base class Shape with an abstract method area(). Then create two subclasses Circle and Rectangle that implement the area() method.**"
      ],
      "metadata": {
        "id": "FbL9mDbpde3A"
      }
    },
    {
      "cell_type": "code",
      "source": [
        "from abc import ABC, abstractmethod\n",
        "import math\n",
        "\n",
        "class Shape(ABC):\n",
        "    @abstractmethod\n",
        "    def area(self):\n",
        "        pass\n",
        "\n",
        "class Circle(Shape):\n",
        "    def __init__(self, radius):\n",
        "        self.radius = radius\n",
        "\n",
        "    def area(self):\n",
        "        return math.pi * (self.radius ** 2)\n",
        "\n",
        "class Rectangle(Shape):\n",
        "    def __init__(self, length, width):\n",
        "        self.length = length\n",
        "        self.width = width\n",
        "\n",
        "    def area(self):\n",
        "        return self.length * self.width\n",
        "\n",
        "# Example usage\n",
        "circle = Circle(5)\n",
        "rectangle = Rectangle(4, 6)\n",
        "\n",
        "print(\"Circle area:\", circle.area())\n",
        "print(\"Rectangle area:\", rectangle.area())\n"
      ],
      "metadata": {
        "colab": {
          "base_uri": "https://localhost:8080/"
        },
        "id": "HSEFbtBieSzY",
        "outputId": "461c2291-617f-49a8-8853-a176101b8277"
      },
      "execution_count": 6,
      "outputs": [
        {
          "output_type": "stream",
          "name": "stdout",
          "text": [
            "Circle area: 78.53981633974483\n",
            "Rectangle area: 24\n"
          ]
        }
      ]
    },
    {
      "cell_type": "markdown",
      "source": [
        "**Q9. Demonstrate polymorphism by creating a function that can work with different shape objects to calculate and print their areas.**"
      ],
      "metadata": {
        "id": "_Sktq-B6dhg_"
      }
    },
    {
      "cell_type": "code",
      "source": [
        "def print_area(shape):\n",
        "    print(f\"Area of the shape: {shape.area()}\")\n",
        "\n",
        "# Example usage\n",
        "circle = Circle(5)\n",
        "rectangle = Rectangle(4, 6)\n",
        "\n",
        "print_area(circle)\n",
        "print_area(rectangle)\n"
      ],
      "metadata": {
        "colab": {
          "base_uri": "https://localhost:8080/"
        },
        "id": "t7Ug4XNHeXxR",
        "outputId": "fca8effd-f559-45cf-c95e-ae93475bc6dc"
      },
      "execution_count": 7,
      "outputs": [
        {
          "output_type": "stream",
          "name": "stdout",
          "text": [
            "Area of the shape: 78.53981633974483\n",
            "Area of the shape: 24\n"
          ]
        }
      ]
    },
    {
      "cell_type": "markdown",
      "source": [
        "**Q.10. Implement encapsulation in a BankAccount class with private attributes for balance and account_number. Include methods for deposit, withdrawal, and balance inquiry.**"
      ],
      "metadata": {
        "id": "Bb5J0lOddov2"
      }
    },
    {
      "cell_type": "code",
      "source": [
        "class BankAccount:\n",
        "    def __init__(self, account_number, balance):\n",
        "        self.__account_number = account_number\n",
        "        self.__balance = balance\n",
        "\n",
        "    def deposit(self, amount):\n",
        "        self.__balance += amount\n",
        "\n",
        "    def withdraw(self, amount):\n",
        "        if amount <= self.__balance:\n",
        "            self.__balance -= amount\n",
        "        else:\n",
        "            print(\"Insufficient funds\")\n",
        "\n",
        "    def get_balance(self):\n",
        "        return self.__balance\n",
        "\n",
        "# Example usage\n",
        "account = BankAccount(\"12345\", 1000)\n",
        "account.deposit(500)\n",
        "account.withdraw(200)\n",
        "print(account.get_balance())\n"
      ],
      "metadata": {
        "colab": {
          "base_uri": "https://localhost:8080/"
        },
        "id": "yc0F0ElwebIP",
        "outputId": "92e6e5e7-1362-47af-f9a0-e6acf5803cb8"
      },
      "execution_count": 8,
      "outputs": [
        {
          "output_type": "stream",
          "name": "stdout",
          "text": [
            "1300\n"
          ]
        }
      ]
    },
    {
      "cell_type": "markdown",
      "source": [
        "**Q11. Write a class that overrides the __str__ and __add__ magic methods. What will these methods allow you to do?**"
      ],
      "metadata": {
        "id": "yk9GrwJadt3I"
      }
    },
    {
      "cell_type": "code",
      "source": [
        "class Point:\n",
        "    def __init__(self, x, y):\n",
        "        self.x = x\n",
        "        self.y = y\n",
        "\n",
        "    def __str__(self):\n",
        "        return f\"Point({self.x}, {self.y})\"\n",
        "\n",
        "    def __add__(self, other):\n",
        "        return Point(self.x + other.x, self.y + other.y)\n",
        "\n",
        "# Example usage\n",
        "p1 = Point(2, 3)\n",
        "p2 = Point(4, 5)\n",
        "\n",
        "print(p1)  # __str__ method called\n",
        "p3 = p1 + p2  # __add__ method called\n",
        "print(p3)\n"
      ],
      "metadata": {
        "colab": {
          "base_uri": "https://localhost:8080/"
        },
        "id": "u-ZQsVP1eeJi",
        "outputId": "018cc1f4-ef31-4b73-ad5e-fff01ca88cac"
      },
      "execution_count": 9,
      "outputs": [
        {
          "output_type": "stream",
          "name": "stdout",
          "text": [
            "Point(2, 3)\n",
            "Point(6, 8)\n"
          ]
        }
      ]
    },
    {
      "cell_type": "markdown",
      "source": [
        "**Q,12. Create a decorator that measures and prints the execution time of a function.**"
      ],
      "metadata": {
        "id": "HFVWzQ3kd2k9"
      }
    },
    {
      "cell_type": "code",
      "source": [
        "import time\n",
        "\n",
        "def time_decorator(func):\n",
        "    def wrapper(*args, **kwargs):\n",
        "        start_time = time.time()\n",
        "        result = func(*args, **kwargs)\n",
        "        end_time = time.time()\n",
        "        print(f\"Execution time: {end_time - start_time} seconds\")\n",
        "        return result\n",
        "    return wrapper\n",
        "\n",
        "@time_decorator\n",
        "def slow_function():\n",
        "    time.sleep(2)\n",
        "\n",
        "slow_function()\n"
      ],
      "metadata": {
        "colab": {
          "base_uri": "https://localhost:8080/"
        },
        "id": "CH7KQoGWegpG",
        "outputId": "2f255587-6638-4e13-fbc8-5a2ee9841a3b"
      },
      "execution_count": 10,
      "outputs": [
        {
          "output_type": "stream",
          "name": "stdout",
          "text": [
            "Execution time: 2.0021305084228516 seconds\n"
          ]
        }
      ]
    },
    {
      "cell_type": "markdown",
      "source": [
        "**Q13. Explain the concept of the Diamond Problem in multiple inheritance. How does Python resolve it?**"
      ],
      "metadata": {
        "id": "hMX3z7e6d9NM"
      }
    },
    {
      "cell_type": "markdown",
      "source": [
        "The Diamond Problem occurs in multiple inheritance when a class inherits from two classes that have a common base class. In Python, it is resolved using the C3 Linearization Algorithm, which defines the order in which classes are considered during method resolution."
      ],
      "metadata": {
        "id": "S0PsMt68emoN"
      }
    },
    {
      "cell_type": "code",
      "source": [
        "class A:\n",
        "    def method(self):\n",
        "        print(\"Method in A\")\n",
        "\n",
        "class B(A):\n",
        "    def method(self):\n",
        "        print(\"Method in B\")\n",
        "\n",
        "class C(A):\n",
        "    def method(self):\n",
        "        print(\"Method in C\")\n",
        "\n",
        "class D(B, C):\n",
        "    pass\n",
        "\n",
        "d = D()\n",
        "d.method()  # Resolves to B's method due to MRO\n"
      ],
      "metadata": {
        "colab": {
          "base_uri": "https://localhost:8080/"
        },
        "id": "HYWC2XmmejUv",
        "outputId": "2a9bab33-a1bd-4800-d46e-fdc362aeb411"
      },
      "execution_count": 11,
      "outputs": [
        {
          "output_type": "stream",
          "name": "stdout",
          "text": [
            "Method in B\n"
          ]
        }
      ]
    },
    {
      "cell_type": "markdown",
      "source": [
        "**14. Write a class method that keeps track of the number of instances created from a class.**"
      ],
      "metadata": {
        "id": "kwprqEuBeBFR"
      }
    },
    {
      "cell_type": "code",
      "source": [
        "class MyClass:\n",
        "    instance_count = 0\n",
        "\n",
        "    def __init__(self):\n",
        "        MyClass.instance_count += 1\n",
        "\n",
        "    @classmethod\n",
        "    def get_instance_count(cls):\n",
        "        return cls.instance_count\n",
        "\n",
        "# Example usage\n",
        "obj1 = MyClass()\n",
        "obj2 = MyClass()\n",
        "print(MyClass.get_instance_count())  # Output: 2\n"
      ],
      "metadata": {
        "colab": {
          "base_uri": "https://localhost:8080/"
        },
        "id": "I0Sz0qPYeqLZ",
        "outputId": "5ddf37b0-1b13-4057-bfbb-f50fa898f40d"
      },
      "execution_count": 12,
      "outputs": [
        {
          "output_type": "stream",
          "name": "stdout",
          "text": [
            "2\n"
          ]
        }
      ]
    },
    {
      "cell_type": "markdown",
      "source": [
        "**Q.15. Implement a static method in a class that checks if a given year is a leap year**"
      ],
      "metadata": {
        "id": "4NCKIUJ6eD9O"
      }
    },
    {
      "cell_type": "code",
      "source": [
        "class Calendar:\n",
        "    @staticmethod\n",
        "    def is_leap_year(year):\n",
        "        if (year % 4 == 0 and year % 100 != 0) or (year % 400 == 0):\n",
        "            return True\n",
        "        return False\n",
        "\n",
        "# Example usage\n",
        "print(Calendar.is_leap_year(2024))  # True\n",
        "print(Calendar.is_leap_year(2023))  # False\n"
      ],
      "metadata": {
        "colab": {
          "base_uri": "https://localhost:8080/"
        },
        "id": "4KCO19QaetMd",
        "outputId": "db4656f3-af2d-4e7a-f422-4afe9c79e0c0"
      },
      "execution_count": 13,
      "outputs": [
        {
          "output_type": "stream",
          "name": "stdout",
          "text": [
            "True\n",
            "False\n"
          ]
        }
      ]
    }
  ]
}