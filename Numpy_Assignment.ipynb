{
  "nbformat": 4,
  "nbformat_minor": 0,
  "metadata": {
    "colab": {
      "provenance": []
    },
    "kernelspec": {
      "name": "python3",
      "display_name": "Python 3"
    },
    "language_info": {
      "name": "python"
    }
  },
  "cells": [
    {
      "cell_type": "code",
      "source": [
        "import numpy as np"
      ],
      "metadata": {
        "id": "F02sDUVcnM9E"
      },
      "execution_count": null,
      "outputs": []
    },
    {
      "cell_type": "markdown",
      "source": [
        "# **Theoretical Question1**\n",
        "\n",
        " **Explain the purpose and advantages of NumPy in scientific computing and data analysis. How does it enhance Python's capabilities for numerical operations?**\n",
        "\n"
      ],
      "metadata": {
        "id": "kA_OMChIlYOB"
      }
    },
    {
      "cell_type": "markdown",
      "source": [
        "Answer:\n",
        "\n",
        "Purpose and Advantages of NumPy in Scientific Computing and Data Analysis\n",
        "NumPy is a powerful library in Python for numerical and scientific computing. It is designed for handling large, multi-dimensional arrays and matrices of numerical data, and provides a wide range of mathematical functions to operate on these arrays. Here's how it enhances Python’s capabilities:\n",
        "\n",
        "Efficient Array Handling: NumPy arrays are more efficient in terms of both time and memory compared to Python lists, especially when working with large datasets.\n",
        "\n",
        "Vectorization: It allows for performing operations on entire arrays without needing explicit loops, which speeds up computations.\n",
        "\n",
        "Mathematical Functions: NumPy provides a vast collection of mathematical functions like sin(), log(), and exp() that can be applied element-wise on arrays.\n",
        "\n",
        "Integration with Other Libraries: NumPy is the foundation of many other libraries like Pandas, SciPy, and Scikit-learn, making it an essential tool for data analysis and machine learning."
      ],
      "metadata": {
        "id": "UL9ch6OImbtv"
      }
    },
    {
      "cell_type": "markdown",
      "source": [
        "# **Theoretical Question2**\n",
        "\n",
        "Compare and contrast np.mean() and np.average() functions in NumPy. When would you use one over the other?"
      ],
      "metadata": {
        "id": "JNbgKPT9lYYe"
      }
    },
    {
      "cell_type": "markdown",
      "source": [
        "Answer 2\n",
        "\n",
        "Difference Between np.mean() and np.average()\n",
        "np.mean(): Computes the arithmetic mean along the specified axis of the array. It is a simple, direct computation of the mean value.\n",
        "\n",
        "np.average(): Computes the weighted average if weights are provided. Without weights, it behaves like np.mean(). It's more flexible than np.mean() because you can specify the weights for each element in the array.\n",
        "\n",
        "When to Use:\n",
        "\n",
        "Use np.mean() when you simply need the mean value.\n",
        "Use np.average() when you need a weighted average."
      ],
      "metadata": {
        "id": "lu4rg6ecmpFF"
      }
    },
    {
      "cell_type": "code",
      "source": [
        "arr = np.array([1, 2, 3, 4, 5])\n",
        "print(np.mean(arr))        # Output: 3.0\n",
        "print(np.average(arr))     # Output: 3.0 (same as mean)\n",
        "\n",
        "weights = np.array([0.1, 0.2, 0.3, 0.2, 0.2])\n",
        "print(np.average(arr, weights=weights))  # Weighted average\n"
      ],
      "metadata": {
        "colab": {
          "base_uri": "https://localhost:8080/"
        },
        "id": "gxifRinImtfg",
        "outputId": "78cb0b4c-ec35-4382-95f6-b179f65d6637"
      },
      "execution_count": null,
      "outputs": [
        {
          "output_type": "stream",
          "name": "stdout",
          "text": [
            "3.0\n",
            "3.0\n",
            "3.2\n"
          ]
        }
      ]
    },
    {
      "cell_type": "markdown",
      "source": [
        "# **Theoretical Question3**\n",
        "\n",
        " Describe the methods for reversing a NumPy array along different axes. Provide examples for 1D and 2D\n",
        "arrays."
      ],
      "metadata": {
        "id": "hw3QFWYwlYgE"
      }
    },
    {
      "cell_type": "code",
      "source": [
        "#1D Array: You can reverse the array using slicing [::-1].\n",
        "arr = np.array([1, 2, 3, 4])\n",
        "reversed_arr = arr[::-1]\n",
        "print(reversed_arr)  # Output: [4 3 2 1]\n"
      ],
      "metadata": {
        "colab": {
          "base_uri": "https://localhost:8080/"
        },
        "id": "5ESfinqNm8Za",
        "outputId": "bd4d5d28-f963-434e-c4fa-bad8b7df2cc6"
      },
      "execution_count": null,
      "outputs": [
        {
          "output_type": "stream",
          "name": "stdout",
          "text": [
            "[4 3 2 1]\n"
          ]
        }
      ]
    },
    {
      "cell_type": "code",
      "source": [
        "#2D Array: Use slicing along specific axes to reverse rows or columns.\n",
        "arr_2d = np.array([[1, 2, 3], [4, 5, 6], [7, 8, 9]])\n",
        "# Reverse rows\n",
        "reversed_rows = arr_2d[::-1]\n",
        "print(reversed_rows)\n",
        "# Reverse columns\n",
        "reversed_columns = arr_2d[:, ::-1]\n",
        "print(reversed_columns)\n"
      ],
      "metadata": {
        "colab": {
          "base_uri": "https://localhost:8080/"
        },
        "id": "ZSUDTxgHm9Y-",
        "outputId": "f3fae658-5fe3-4fe0-db77-501d09f63061"
      },
      "execution_count": null,
      "outputs": [
        {
          "output_type": "stream",
          "name": "stdout",
          "text": [
            "[[7 8 9]\n",
            " [4 5 6]\n",
            " [1 2 3]]\n",
            "[[3 2 1]\n",
            " [6 5 4]\n",
            " [9 8 7]]\n"
          ]
        }
      ]
    },
    {
      "cell_type": "markdown",
      "source": [
        "# **Theoretical Question4**\n",
        "\n",
        "How can you determine the data type of elements in a NumPy array? Discuss the importance of data types\n",
        "in memory management and performance.\n",
        "\n"
      ],
      "metadata": {
        "id": "EQ7-8PJtlYoJ"
      }
    },
    {
      "cell_type": "code",
      "source": [
        "arr = np.array([1, 2, 3])\n",
        "print(arr.dtype)  # Output: int64\n",
        "\n",
        "arr_float = np.array([1.5, 2.5, 3.5])\n",
        "print(arr_float.dtype)  # Output: float64\n"
      ],
      "metadata": {
        "colab": {
          "base_uri": "https://localhost:8080/"
        },
        "id": "ewlciukPnm8d",
        "outputId": "b143460c-1e39-473d-9882-905ec0b19ec3"
      },
      "execution_count": null,
      "outputs": [
        {
          "output_type": "stream",
          "name": "stdout",
          "text": [
            "int64\n",
            "float64\n"
          ]
        }
      ]
    },
    {
      "cell_type": "markdown",
      "source": [
        "Importance of Data Types:\n",
        "\n",
        "Memory Management: Choosing the correct data type helps in managing memory effectively, especially when dealing with large datasets.\n",
        "\n",
        "Performance: Operations on arrays with smaller or more efficient data types (like float32 vs. float64) are faster."
      ],
      "metadata": {
        "id": "WjDBnjmenrBk"
      }
    },
    {
      "cell_type": "markdown",
      "source": [
        "# **Theoretical Question5**\n",
        "\n",
        "Define ndarrays in NumPy and explain their key features. How do they differ from standard Python lists?"
      ],
      "metadata": {
        "id": "Lp4BFlRHlYv7"
      }
    },
    {
      "cell_type": "markdown",
      "source": [
        "An ndarray (N-dimensional array) is the core data structure in NumPy. Key features include:\n",
        "\n",
        "Homogeneous: All elements in an ndarray must be of the same data type.\n",
        "Multidimensional: Can have multiple dimensions (1D, 2D, 3D, etc.).\n",
        "Efficient: Memory layout is contiguous, which allows fast access and manipulation.\n",
        "Differences with Python Lists:\n",
        "\n",
        "NumPy arrays are more memory efficient than Python lists and support vectorized operations, which makes them faster.\n",
        "Python lists can store elements of different data types, while NumPy arrays are restricted to a single data type."
      ],
      "metadata": {
        "id": "_y_cDNNUnyOP"
      }
    },
    {
      "cell_type": "markdown",
      "source": [
        "# **Theoretical Question6**\n",
        "\n",
        "Analyze the performance benefits of NumPy arrays over Python lists for large-scale numerical operations."
      ],
      "metadata": {
        "id": "Z29pSAaVlY3W"
      }
    },
    {
      "cell_type": "markdown",
      "source": [
        "Memory Efficiency: NumPy arrays are stored in contiguous blocks of memory, unlike Python lists which are arrays of pointers to objects. This allows NumPy arrays to be more memory-efficient.\n",
        "\n",
        "Speed: NumPy operations are implemented in C and optimized for performance, while Python lists are slower due to Python’s dynamic nature.\n",
        "\n",
        "Vectorization: NumPy enables vectorized operations, meaning you can perform element-wise operations on entire arrays without explicit loops, which is much faster."
      ],
      "metadata": {
        "id": "KtGQ2oMYn64n"
      }
    },
    {
      "cell_type": "markdown",
      "source": [
        "# **Theoretical Question7**\n",
        "\n",
        "Compare vstack() and hstack() functions in NumPy. Provide examples demonstrating their usage and\n",
        "output."
      ],
      "metadata": {
        "id": "29cdgcx7lY_O"
      }
    },
    {
      "cell_type": "code",
      "source": [
        "#np.vstack(): Stacks arrays vertically (row-wise). The number of columns must be the same for all arrays.\n",
        "arr1 = np.array([1, 2])\n",
        "arr2 = np.array([3, 4])\n",
        "result = np.vstack((arr1, arr2))\n",
        "print(result)\n"
      ],
      "metadata": {
        "colab": {
          "base_uri": "https://localhost:8080/"
        },
        "id": "vLNMce5Rn_0c",
        "outputId": "d2b96c0a-8073-457a-b342-a1c3abe2f740"
      },
      "execution_count": null,
      "outputs": [
        {
          "output_type": "stream",
          "name": "stdout",
          "text": [
            "[[1 2]\n",
            " [3 4]]\n"
          ]
        }
      ]
    },
    {
      "cell_type": "code",
      "source": [
        "#np.hstack(): Stacks arrays horizontally (column-wise). The number of rows must be the same.\n",
        "arr1 = np.array([1, 2])\n",
        "arr2 = np.array([3, 4])\n",
        "result = np.hstack((arr1, arr2))\n",
        "print(result)\n"
      ],
      "metadata": {
        "colab": {
          "base_uri": "https://localhost:8080/"
        },
        "id": "SxNsFi1eoHHA",
        "outputId": "e05a22cd-1729-4cf9-e82e-de9829fdc0fc"
      },
      "execution_count": null,
      "outputs": [
        {
          "output_type": "stream",
          "name": "stdout",
          "text": [
            "[1 2 3 4]\n"
          ]
        }
      ]
    },
    {
      "cell_type": "markdown",
      "source": [
        "# **Theoretical Question8**\n",
        "\n",
        "Explain the differences between fliplr() and flipud() methods in NumPy, including their effects on various\n",
        "array dimensions."
      ],
      "metadata": {
        "id": "Pvtw1Ic5lZGm"
      }
    },
    {
      "cell_type": "code",
      "source": [
        "#np.fliplr(): Flips an array left to right (mirrors columns).\n",
        "\n",
        "arr = np.array([[1, 2], [3, 4]])\n",
        "print(np.fliplr(arr))"
      ],
      "metadata": {
        "colab": {
          "base_uri": "https://localhost:8080/"
        },
        "id": "DOQDPn3XoR-t",
        "outputId": "1a7732ec-401c-4d57-b1c9-bbf954ac17b0"
      },
      "execution_count": null,
      "outputs": [
        {
          "output_type": "stream",
          "name": "stdout",
          "text": [
            "[[2 1]\n",
            " [4 3]]\n"
          ]
        }
      ]
    },
    {
      "cell_type": "code",
      "source": [
        "#np.flipud(): Flips an array upside down (mirrors rows).\n",
        "arr = np.array([[1, 2], [3, 4]])\n",
        "print(np.flipud(arr))"
      ],
      "metadata": {
        "colab": {
          "base_uri": "https://localhost:8080/"
        },
        "id": "7iPn90vkoXsV",
        "outputId": "a44a8502-7849-4e34-9be2-401706b41e55"
      },
      "execution_count": null,
      "outputs": [
        {
          "output_type": "stream",
          "name": "stdout",
          "text": [
            "[[3 4]\n",
            " [1 2]]\n"
          ]
        }
      ]
    },
    {
      "cell_type": "markdown",
      "source": [
        "# **Theoretical Question9**\n",
        "\n",
        "Discuss the functionality of the array_split() method in NumPy. How does it handle uneven splits?"
      ],
      "metadata": {
        "id": "lQtnFwcClZNl"
      }
    },
    {
      "cell_type": "code",
      "source": [
        "#The array_split() method splits an array into multiple sub-arrays. It can handle uneven splits, unlike split(), which requires the number of splits to divide evenly.\n",
        "\n",
        "arr = np.array([1, 2, 3, 4, 5])\n",
        "result = np.array_split(arr, 3)\n",
        "print(result)"
      ],
      "metadata": {
        "colab": {
          "base_uri": "https://localhost:8080/"
        },
        "id": "p8BYodNvog_3",
        "outputId": "395e3122-217d-46f2-82a6-828e076c1bbd"
      },
      "execution_count": null,
      "outputs": [
        {
          "output_type": "stream",
          "name": "stdout",
          "text": [
            "[array([1, 2]), array([3, 4]), array([5])]\n"
          ]
        }
      ]
    },
    {
      "cell_type": "markdown",
      "source": [
        "# **Theoretical Question10**\n",
        "\n",
        "Explain the concepts of vectorization and broadcasting in NumPy. How do they contribute to efficient array\n",
        "operations?"
      ],
      "metadata": {
        "id": "l7tItdv4lZUz"
      }
    },
    {
      "cell_type": "code",
      "source": [
        "'''Vectorization: Refers to the ability to apply operations to entire arrays without needing to write explicit loops, which results in faster execution and cleaner code.\n",
        "\n",
        "Broadcasting: NumPy automatically expands the dimensions of smaller arrays to match larger arrays during operations. This allows element-wise operations even when arrays of different shapes are involved.'''\n",
        "\n",
        "arr1 = np.array([1, 2, 3])\n",
        "arr2 = np.array([10])\n",
        "result = arr1 + arr2  # Broadcasting arr2 to match arr1's shape\n",
        "print(result)"
      ],
      "metadata": {
        "colab": {
          "base_uri": "https://localhost:8080/"
        },
        "id": "mwr7WIfQopkE",
        "outputId": "a6846925-64de-4eb2-f0e5-ae021f6b8aa9"
      },
      "execution_count": null,
      "outputs": [
        {
          "output_type": "stream",
          "name": "stdout",
          "text": [
            "[11 12 13]\n"
          ]
        }
      ]
    },
    {
      "cell_type": "markdown",
      "source": [
        "# **Practical Questions1**\n",
        "\n",
        " Create a 3x3 NumPy array with random integers between 1 and 100. Then, interchange its rows and columns."
      ],
      "metadata": {
        "id": "xLYfpmIqpo76"
      }
    },
    {
      "cell_type": "code",
      "source": [
        "arr = np.random.randint(1, 101, size=(3, 3))\n",
        "print(\"Original array:\\n\", arr)\n",
        "transposed_arr = arr.T  # Interchanging rows and columns\n",
        "print(\"Transposed array:\\n\", transposed_arr)\n"
      ],
      "metadata": {
        "colab": {
          "base_uri": "https://localhost:8080/"
        },
        "id": "eHswqS6nqfLT",
        "outputId": "b7ab4e50-9fb0-442f-da5f-a7476a71d56b"
      },
      "execution_count": null,
      "outputs": [
        {
          "output_type": "stream",
          "name": "stdout",
          "text": [
            "Original array:\n",
            " [[17 34 43]\n",
            " [65 78 23]\n",
            " [17 48 46]]\n",
            "Transposed array:\n",
            " [[17 65 17]\n",
            " [34 78 48]\n",
            " [43 23 46]]\n"
          ]
        }
      ]
    },
    {
      "cell_type": "markdown",
      "source": [
        "# **Practical Questions2**\n",
        "\n",
        " Generate a 1D NumPy array with 10 elements. Reshape it into a 2x5 array, then into a 5x2 array."
      ],
      "metadata": {
        "id": "OgFUwxspqCTN"
      }
    },
    {
      "cell_type": "code",
      "source": [
        "arr = np.arange(10)\n",
        "reshaped_2x5 = arr.reshape(2, 5)\n",
        "reshaped_5x2 = arr.reshape(5, 2)\n",
        "print(\"Reshaped 2x5 array:\\n\", reshaped_2x5)\n",
        "print(\"Reshaped 5x2 array:\\n\", reshaped_5x2)\n"
      ],
      "metadata": {
        "colab": {
          "base_uri": "https://localhost:8080/"
        },
        "id": "Lppo4mg-qkj7",
        "outputId": "3eb8690d-cd3b-4f8a-bb89-cb98fbb5edb9"
      },
      "execution_count": null,
      "outputs": [
        {
          "output_type": "stream",
          "name": "stdout",
          "text": [
            "Reshaped 2x5 array:\n",
            " [[0 1 2 3 4]\n",
            " [5 6 7 8 9]]\n",
            "Reshaped 5x2 array:\n",
            " [[0 1]\n",
            " [2 3]\n",
            " [4 5]\n",
            " [6 7]\n",
            " [8 9]]\n"
          ]
        }
      ]
    },
    {
      "cell_type": "markdown",
      "source": [
        "# **Practical Questions3**\n",
        "\n",
        "Create a 4x4 NumPy array with random float values. Add a border of zeros around it, resulting in a 6x6 array."
      ],
      "metadata": {
        "id": "7cRHIR0UprXD"
      }
    },
    {
      "cell_type": "code",
      "source": [
        "arr = np.random.random((4, 4))\n",
        "bordered_arr = np.pad(arr, pad_width=1, mode='constant', constant_values=0)\n",
        "print(\"Array with border:\\n\", bordered_arr)\n"
      ],
      "metadata": {
        "colab": {
          "base_uri": "https://localhost:8080/"
        },
        "id": "w1-hFYgSqraI",
        "outputId": "0cec55e8-b17f-49c0-bad2-4b5a638654b4"
      },
      "execution_count": null,
      "outputs": [
        {
          "output_type": "stream",
          "name": "stdout",
          "text": [
            "Array with border:\n",
            " [[0.         0.         0.         0.         0.         0.        ]\n",
            " [0.         0.44640935 0.4734564  0.3177662  0.73628427 0.        ]\n",
            " [0.         0.09613937 0.65169095 0.94415223 0.91519757 0.        ]\n",
            " [0.         0.35440206 0.78616534 0.34769236 0.71176761 0.        ]\n",
            " [0.         0.48376618 0.31003519 0.98383531 0.01467485 0.        ]\n",
            " [0.         0.         0.         0.         0.         0.        ]]\n"
          ]
        }
      ]
    },
    {
      "cell_type": "markdown",
      "source": [
        "# **Practical Questions4**\n",
        "\n",
        "Using NumPy, create an array of integers from 10 to 60 with a step of 5."
      ],
      "metadata": {
        "id": "9PQe5u99psQu"
      }
    },
    {
      "cell_type": "code",
      "source": [
        "arr = np.arange(10, 61, 5)\n",
        "print(arr)\n"
      ],
      "metadata": {
        "colab": {
          "base_uri": "https://localhost:8080/"
        },
        "id": "PwKGk6NOqzS7",
        "outputId": "c66feda3-8a34-42f3-b0eb-ed55e38d2a28"
      },
      "execution_count": null,
      "outputs": [
        {
          "output_type": "stream",
          "name": "stdout",
          "text": [
            "[10 15 20 25 30 35 40 45 50 55 60]\n"
          ]
        }
      ]
    },
    {
      "cell_type": "markdown",
      "source": [
        "# **Practical Questions5**\n",
        "\n",
        "Create a NumPy array of strings ['python', 'numpy', 'pandas']. Apply different case transformations."
      ],
      "metadata": {
        "id": "bKEWoxg1ptF0"
      }
    },
    {
      "cell_type": "code",
      "source": [
        "arr = np.array(['python', 'numpy', 'pandas'])\n",
        "print(np.char.upper(arr))\n",
        "print(np.char.lower(arr))\n",
        "print(np.char.title(arr))\n"
      ],
      "metadata": {
        "colab": {
          "base_uri": "https://localhost:8080/"
        },
        "id": "h774epjHq5Ao",
        "outputId": "adbf78fc-ff3a-4a2d-b281-f0e055b657e0"
      },
      "execution_count": null,
      "outputs": [
        {
          "output_type": "stream",
          "name": "stdout",
          "text": [
            "['PYTHON' 'NUMPY' 'PANDAS']\n",
            "['python' 'numpy' 'pandas']\n",
            "['Python' 'Numpy' 'Pandas']\n"
          ]
        }
      ]
    },
    {
      "cell_type": "markdown",
      "source": [
        "# **Practical Questions6**\n",
        "\n",
        "Generate a NumPy array of words. Insert a space between each character of every word in the array"
      ],
      "metadata": {
        "id": "OnnpphLvpt_I"
      }
    },
    {
      "cell_type": "code",
      "source": [
        "import numpy as np\n",
        "\n",
        "# Create a NumPy array of words\n",
        "words = np.array(['hello', 'world', 'numpy'])\n",
        "\n",
        "# Insert a space between each character of every word\n",
        "spaced_words = np.char.join(' ', list(words))\n",
        "\n",
        "print(\"Words with spaces:\", spaced_words)\n"
      ],
      "metadata": {
        "colab": {
          "base_uri": "https://localhost:8080/"
        },
        "id": "NXHt7oqPrH3b",
        "outputId": "ba2a9879-8013-471b-c1b3-a4c2ccb699c2"
      },
      "execution_count": null,
      "outputs": [
        {
          "output_type": "stream",
          "name": "stdout",
          "text": [
            "Words with spaces: ['h e l l o' 'w o r l d' 'n u m p y']\n"
          ]
        }
      ]
    },
    {
      "cell_type": "markdown",
      "source": [
        "# Practical **Questions7**\n",
        "\n",
        "Create two 2D NumPy arrays and perform element-wise addition, subtraction, multiplication, and division"
      ],
      "metadata": {
        "id": "xbv1ITqPpvKo"
      }
    },
    {
      "cell_type": "code",
      "source": [
        "import numpy as np\n",
        "\n",
        "# Create two 2D NumPy arrays\n",
        "arr1 = np.array([[1, 2], [3, 4]])\n",
        "arr2 = np.array([[5, 6], [7, 8]])\n",
        "\n",
        "# Element-wise operations\n",
        "addition = arr1 + arr2\n",
        "subtraction = arr1 - arr2\n",
        "multiplication = arr1 * arr2\n",
        "division = arr1 / arr2\n",
        "\n",
        "print(\"Addition:\\n\", addition)\n",
        "print(\"Subtraction:\\n\", subtraction)\n",
        "print(\"Multiplication:\\n\", multiplication)\n",
        "print(\"Division:\\n\", division)\n"
      ],
      "metadata": {
        "colab": {
          "base_uri": "https://localhost:8080/"
        },
        "id": "AhKdx6UIrQNr",
        "outputId": "f35ad710-6e75-491e-c65d-545a8af0bbb2"
      },
      "execution_count": null,
      "outputs": [
        {
          "output_type": "stream",
          "name": "stdout",
          "text": [
            "Addition:\n",
            " [[ 6  8]\n",
            " [10 12]]\n",
            "Subtraction:\n",
            " [[-4 -4]\n",
            " [-4 -4]]\n",
            "Multiplication:\n",
            " [[ 5 12]\n",
            " [21 32]]\n",
            "Division:\n",
            " [[0.2        0.33333333]\n",
            " [0.42857143 0.5       ]]\n"
          ]
        }
      ]
    },
    {
      "cell_type": "markdown",
      "source": [
        "# **Practical Questions8**\n",
        "\n",
        "Use NumPy to create a 5x5 identity matrix, then extract its diagonal elements\n",
        "\n"
      ],
      "metadata": {
        "id": "HOAjwTokpxBv"
      }
    },
    {
      "cell_type": "code",
      "source": [
        "import numpy as np\n",
        "\n",
        "# Create a 5x5 identity matrix\n",
        "identity_matrix = np.eye(5)\n",
        "\n",
        "# Extract diagonal elements\n",
        "diagonal_elements = np.diagonal(identity_matrix)\n",
        "\n",
        "print(\"Identity Matrix:\\n\", identity_matrix)\n",
        "print(\"Diagonal Elements:\", diagonal_elements)\n"
      ],
      "metadata": {
        "colab": {
          "base_uri": "https://localhost:8080/"
        },
        "id": "RnsMs3d-rW1h",
        "outputId": "62f8c685-9146-41bf-ccfa-d3d6ec8d2ce9"
      },
      "execution_count": null,
      "outputs": [
        {
          "output_type": "stream",
          "name": "stdout",
          "text": [
            "Identity Matrix:\n",
            " [[1. 0. 0. 0. 0.]\n",
            " [0. 1. 0. 0. 0.]\n",
            " [0. 0. 1. 0. 0.]\n",
            " [0. 0. 0. 1. 0.]\n",
            " [0. 0. 0. 0. 1.]]\n",
            "Diagonal Elements: [1. 1. 1. 1. 1.]\n"
          ]
        }
      ]
    },
    {
      "cell_type": "markdown",
      "source": [
        "# **Practical Questions9**\n",
        "\n",
        "Generate a NumPy array of 100 random integers between 0 and 1000. Find and display all prime numbers in this array"
      ],
      "metadata": {
        "id": "Sx_8JrXLpyH2"
      }
    },
    {
      "cell_type": "code",
      "source": [
        "import numpy as np\n",
        "\n",
        "# Generate a NumPy array of 100 random integers between 0 and 1000\n",
        "arr = np.random.randint(0, 1001, 100)\n",
        "\n",
        "# Function to check if a number is prime\n",
        "def is_prime(n):\n",
        "    if n < 2:\n",
        "        return False\n",
        "    for i in range(2, int(np.sqrt(n)) + 1):\n",
        "        if n % i == 0:\n",
        "            return False\n",
        "    return True\n",
        "\n",
        "# Find all prime numbers in the array\n",
        "primes = arr[np.vectorize(is_prime)(arr)]\n",
        "\n",
        "print(\"Prime Numbers:\", primes)\n"
      ],
      "metadata": {
        "colab": {
          "base_uri": "https://localhost:8080/"
        },
        "id": "T44XId_xrcqA",
        "outputId": "7cf7371d-53f6-45fd-a536-be7d34fbd63d"
      },
      "execution_count": null,
      "outputs": [
        {
          "output_type": "stream",
          "name": "stdout",
          "text": [
            "Prime Numbers: [617 173 373  73   7 211 727  67 619 503 491 823 859 317 421 887  17  17\n",
            " 547]\n"
          ]
        }
      ]
    },
    {
      "cell_type": "markdown",
      "source": [
        "# **Practical Questions10**\n",
        "\n",
        "Create a NumPy array representing daily temperatures for a month. Calculate and display the weekly averages."
      ],
      "metadata": {
        "id": "xJIK2V3dpy3X"
      }
    },
    {
      "cell_type": "code",
      "source": [
        "import numpy as np\n",
        "\n",
        "# Generate a NumPy array of 30 random integers for daily temperatures\n",
        "temperatures = np.random.randint(20, 35, 30)\n",
        "\n",
        "# Reshape into 5 weeks (rows), 6 days each (columns)\n",
        "weekly_temperatures = temperatures.reshape(5, 6)\n",
        "\n",
        "# Calculate weekly averages\n",
        "weekly_averages = np.mean(weekly_temperatures, axis=1)\n",
        "\n",
        "print(\"Weekly Average Temperatures:\", weekly_averages)\n"
      ],
      "metadata": {
        "colab": {
          "base_uri": "https://localhost:8080/"
        },
        "id": "9t33GFB3rhcI",
        "outputId": "d93b4e1d-e694-452a-e205-a0ff1f433d4b"
      },
      "execution_count": null,
      "outputs": [
        {
          "output_type": "stream",
          "name": "stdout",
          "text": [
            "Weekly Average Temperatures: [25.66666667 25.16666667 25.83333333 25.33333333 23.83333333]\n"
          ]
        }
      ]
    }
  ]
}